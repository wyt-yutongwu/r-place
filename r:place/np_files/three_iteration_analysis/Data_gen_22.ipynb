{
 "cells": [
  {
   "cell_type": "markdown",
   "id": "ccd06efc",
   "metadata": {},
   "source": [
    "## Canvas Data:\n",
    "\n",
    "CSV with tuples <idx, time, user, color(hex), x_coordinate, y_coordinate>\n",
    "\n",
    "Previous code data template <time, user, x_coordinate, y_coordinate, color>\n",
    "\n",
    "Data stored in \n",
    "\n",
    "../data_2022/tile_placement.csv\n",
    "\n",
    "../data_2023/tile_placement.csv"
   ]
  },
  {
   "cell_type": "code",
   "execution_count": 1,
   "id": "1b2824e8",
   "metadata": {},
   "outputs": [],
   "source": [
    "#import basic libraries\n",
    "\n",
    "import csv\n",
    "import sys\n",
    "import os\n",
    "import math\n",
    "import numpy as np\n",
    "import numpy.linalg as npla\n",
    "import scipy\n",
    "from scipy import sparse\n",
    "from scipy import linalg\n",
    "import scipy.sparse.linalg as spla\n",
    "import matplotlib.pyplot as plt\n",
    "from matplotlib import cm\n",
    "import matplotlib.mlab as mlab\n",
    "from mpl_toolkits.mplot3d import axes3d\n",
    "#%matplotlib tk\n",
    "import operator\n",
    "sys.path.append(\"../Python_code\") # go to parent dir\n",
    "from reddit import *\n",
    "from analytics_combined import *\n",
    "import pandas as pd"
   ]
  },
  {
   "cell_type": "markdown",
   "id": "b6d78bd4",
   "metadata": {},
   "source": [
    "# Process 2022 data to match format"
   ]
  },
  {
   "cell_type": "code",
   "execution_count": 22,
   "id": "dde56eaf",
   "metadata": {},
   "outputs": [],
   "source": [
    "# Process the data so that it matches the original file format\n",
    "# Cuts the index\n",
    "!cut -f2,3,4,5,6 -d ',' ../data_2022/tile_placement.csv > ../data_2022/tile_placement_new.csv"
   ]
  },
  {
   "cell_type": "code",
   "execution_count": 26,
   "id": "fd196356",
   "metadata": {},
   "outputs": [],
   "source": [
    "# Swap color and coord column\n",
    "!awk -F, 'BEGIN{FS=OFS=\",\"} {print $1, $2, $4, $5, $3}' ../data_2022/tile_placement_new.csv > ../data_2022/tile_placement_swap.csv"
   ]
  },
  {
   "cell_type": "code",
   "execution_count": 27,
   "id": "3ec16772",
   "metadata": {},
   "outputs": [],
   "source": [
    "# Removes the quotation between coordinates\n",
    "!awk '{gsub(/\"/, \"\")};4' ../data_2022/tile_placement_swap.csv > ../data_2022/tile_placement_noquote.csv"
   ]
  },
  {
   "cell_type": "code",
   "execution_count": 28,
   "id": "c9ab787f",
   "metadata": {},
   "outputs": [],
   "source": [
    "# the original tile_placements.csv contains duplicate updates (same [ts, user, x, y, color]) \n",
    "# One needs to run the following command to only keep the unique updates\n",
    "!awk '!a[$0]++' ../data_2022/tile_placement_noquote.csv > ../data_2022/tile_placements_no_duplicates.csv"
   ]
  },
  {
   "cell_type": "code",
   "execution_count": 13,
   "id": "8098223d",
   "metadata": {},
   "outputs": [],
   "source": [
    "# Delete the UTC at the end of each timestamp\n",
    "!awk '{gsub(\"UTC\", \"\")$1;print}' ../data_2022/tile_placements_no_duplicates.csv > ../data_2022/tile_placements_no_UTC.csv"
   ]
  },
  {
   "cell_type": "code",
   "execution_count": 20,
   "id": "f1fb6216",
   "metadata": {},
   "outputs": [],
   "source": [
    "# Convert UTC time to unix timestamp\n",
    "\n",
    "!awk -F, 'BEGIN{FS=OFS=\",\"} {$1 = mktime(gensub(\"[-:]\", \" \",\"g\",$1))} 1' ../data_2022/tile_placements_no_UTC.csv > ../data_2022/tile_placements_time.csv"
   ]
  },
  {
   "cell_type": "code",
   "execution_count": 22,
   "id": "e1543ea0",
   "metadata": {},
   "outputs": [],
   "source": [
    "# Remove the '#' in front of the hex colors\n",
    "!awk '{gsub(\"#\", \"\")$5;print}' ../data_2022/tile_placements_time.csv > ../data_2022/tile_placements_color.csv"
   ]
  },
  {
   "cell_type": "code",
   "execution_count": null,
   "id": "6b3acc3e",
   "metadata": {},
   "outputs": [
    {
     "name": "stdout",
     "output_type": "stream",
     "text": [
      "locations length: 10866\n"
     ]
    }
   ],
   "source": [
    "# Takes the tile_placements and atlas data and creates a csv where each line is a tuple of the following elements:\n",
    "# time, user, x, y, color, project_id, pixel (binary), pixel_color (binary)\n",
    "# pixel denotes whether it is in the final project\n",
    "# pixel_color denotes whether the update has the same color as the final one or not\n",
    "locations = store_locations_22(\"../data_2022/atlas/atlas.json\")\n",
    "print(\"locations length:\", len(locations))\n",
    "add_atlas_data_to_tile_placements(locations, \"../data_2022/tile_placements_color.csv\", \"../data_2022/tile_placements_proj.csv\")"
   ]
  },
  {
   "cell_type": "code",
   "execution_count": 3,
   "id": "b94468c1",
   "metadata": {},
   "outputs": [
    {
     "name": "stdout",
     "output_type": "stream",
     "text": [
      "sort: write failed: /tmp/sortfJDg1x: No space left on device\n",
      "awk: cmd. line:1: (FILENAME=../data_2022/tile_placements_proj.csv FNR=521296105) fatal: print to \"sort -t, -nk1,1\" failed (Broken pipe)\n"
     ]
    }
   ],
   "source": [
    "# One needs to sort the data according to the time\n",
    "# Please keep the header as it is; the following command will help to sort.\n",
    "# We will use the sorted_tile_placements.csv\n",
    "\n",
    "!awk 'NR == 1; NR > 1 {print $0 | \"sort -t, -nk1,1\"}' ../data_2022/tile_placements_proj.csv > ../data_2022/sorted_tile_placements_proj.csv"
   ]
  },
  {
   "cell_type": "markdown",
   "id": "d20cadf6",
   "metadata": {},
   "source": [
    "# Process 2023 data to match format"
   ]
  },
  {
   "cell_type": "code",
   "execution_count": 30,
   "id": "bd1eb691",
   "metadata": {},
   "outputs": [],
   "source": [
    "# Process the data so that it matches the original file format\n",
    "# Cuts the index\n",
    "!cut -f2,3,4,5,6,7 -d ',' ../data_2023/tile_placement.csv > ../data_2023/tile_placement_new.csv"
   ]
  },
  {
   "cell_type": "code",
   "execution_count": 31,
   "id": "bd8d9151",
   "metadata": {},
   "outputs": [],
   "source": [
    "# Remove quotation and make sure the format is consistent in the file\n",
    "!awk '{gsub(/, R: [0-9]*}/,\"\"); gsub(/{X: /, \"\");gsub(/Y: /, \"\"); gsub(/\"/, \"\")} 4;' ../data_2023/tile_placement_new.csv > ../data_2023/tile_placement_noquote.csv"
   ]
  },
  {
   "cell_type": "code",
   "execution_count": 32,
   "id": "0660c774",
   "metadata": {},
   "outputs": [],
   "source": [
    "# the original tile_placements.csv contains duplicate updates (same [ts, user, x, y, color]) \n",
    "# One needs to run the following command to only keep the unique updates\n",
    "!awk '!a[$0]++' ../data_2023/tile_placement_noquote.csv > ../data_2023/tile_placements_no_duplicates.csv"
   ]
  },
  {
   "cell_type": "code",
   "execution_count": 33,
   "id": "6791cc20",
   "metadata": {},
   "outputs": [],
   "source": [
    "# Delete the UTC at the end of each timestamp\n",
    "\n",
    "!awk '{gsub(\"UTC\", \"\")$1;print}' ../data_2023/tile_placements_no_duplicates.csv > ../data_2023/tile_placements_no_UTC.csv\n",
    "\n",
    "# Convert UTC time to unix timestamp\n",
    "\n",
    "!awk -F, 'BEGIN{FS=OFS=\",\"} {$1 = mktime(gensub(\"[-:]\", \" \",\"g\",$1))} 1' ../data_2023/tile_placements_no_UTC.csv > ../data_2023/tile_placements_time.csv"
   ]
  },
  {
   "cell_type": "code",
   "execution_count": 34,
   "id": "c7fda860",
   "metadata": {},
   "outputs": [],
   "source": [
    "# Remove the '#' in front of the hex colors\n",
    "!awk '{gsub(\"#\", \"\")$5;print}' ../data_2023/tile_placements_time.csv > ../data_2023/tile_placements_color.csv"
   ]
  },
  {
   "cell_type": "code",
   "execution_count": null,
   "id": "f52e6cd0",
   "metadata": {},
   "outputs": [],
   "source": [
    "# Takes the tile_placements and atlas data and creates a csv where each line is a tuple of the following elements:\n",
    "# time, user, x, y, color, project_id, pixel (binary), pixel_color (binary)\n",
    "# pixel denotes whether it is in the final project\n",
    "# pixel_color denotes whether the update has the same color as the final one or not\n",
    "locations = store_locations_22(\"../data_2023/atlas/atlas.json\")\n",
    "print(\"locations length:\", len(locations))\n",
    "add_atlas_data_to_tile_placements(locations, \"../data_2023/tile_placements_color.csv\", \"../data_2023/tile_placements_proj.csv\")"
   ]
  },
  {
   "cell_type": "code",
   "execution_count": 28,
   "id": "8168feeb",
   "metadata": {},
   "outputs": [],
   "source": [
    "# Process the data so that it matches the original file format\n",
    "# Cuts the index\n",
    "!cut -f2,3,4,5,6,7 -d ',' test.csv > test_out.csv"
   ]
  },
  {
   "cell_type": "code",
   "execution_count": null,
   "id": "846a1f14",
   "metadata": {},
   "outputs": [],
   "source": [
    "with open(\"../data_2023/atlas/atlas.json\",'r') as file:\n",
    "    next(file, None)\n",
    "    reader = csv.reader(file)\n",
    "\n",
    "    with open(\"../data_2023/sorted_tile_placements_coord.csv\", 'w') as file_out:\n",
    "      writer = csv.writer(file_out, delimiter = \",\")\n",
    "      writer.writerow([\"ts\", \"user\" ,\"x_coordinate\" ,\"y_coordinate\" ,\"color\"])\n",
    "\n",
    "      for r in reader:\n",
    "        time = int(r[0])\n",
    "        user = r[1]\n",
    "        x = int(r[2]) + 1500\n",
    "        y = int(r[3]) + 1000\n",
    "        color = r[4]\n",
    "        writer.writerow([time, user, x, y, color])"
   ]
  }
 ],
 "metadata": {
  "kernelspec": {
   "display_name": "Python 3 (ipykernel)",
   "language": "python",
   "name": "python3"
  },
  "language_info": {
   "codemirror_mode": {
    "name": "ipython",
    "version": 3
   },
   "file_extension": ".py",
   "mimetype": "text/x-python",
   "name": "python",
   "nbconvert_exporter": "python",
   "pygments_lexer": "ipython3",
   "version": "3.11.4"
  }
 },
 "nbformat": 4,
 "nbformat_minor": 5
}
