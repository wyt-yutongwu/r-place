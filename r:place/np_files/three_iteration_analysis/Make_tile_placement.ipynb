{
 "cells": [
  {
   "cell_type": "code",
   "execution_count": 5,
   "id": "14f0ec0a",
   "metadata": {},
   "outputs": [],
   "source": [
    "from os import listdir\n",
    "from os.path import isfile, join\n",
    "import gzip\n",
    "import pandas as pd\n"
   ]
  },
  {
   "cell_type": "code",
   "execution_count": 6,
   "id": "b1bfa95a",
   "metadata": {},
   "outputs": [],
   "source": [
    "onlyfiles = [f for f in listdir('../data_2022/tile_placement') if isfile(join('../data_2022/tile_placement', f))]"
   ]
  },
  {
   "cell_type": "code",
   "execution_count": 7,
   "id": "1b3ce9c9",
   "metadata": {},
   "outputs": [],
   "source": [
    "df_csv_append = pd.DataFrame()\n",
    " \n",
    "# append the CSV files\n",
    "for file in onlyfiles:\n",
    "    with gzip.open('../data_2022/tile_placement/' + file) as f:\n",
    "        df = pd.read_csv(f)\n",
    "        df_csv_append = pd.concat([df_csv_append, df], ignore_index=True)"
   ]
  },
  {
   "cell_type": "code",
   "execution_count": 8,
   "id": "af6e3392",
   "metadata": {},
   "outputs": [],
   "source": [
    "df_csv_append.to_csv('../data_2022/tile_placement.csv')"
   ]
  },
  {
   "cell_type": "code",
   "execution_count": 2,
   "id": "88b2ce55",
   "metadata": {},
   "outputs": [],
   "source": [
    "onlyfiles = [f for f in listdir('../data_2023/tile_placement') if isfile(join('../data_2023/tile_placement', f))]"
   ]
  },
  {
   "cell_type": "code",
   "execution_count": 3,
   "id": "4145ce65",
   "metadata": {},
   "outputs": [],
   "source": [
    "df_csv_append = pd.DataFrame()\n",
    " \n",
    "# append the CSV files\n",
    "for file in onlyfiles:\n",
    "    with gzip.open('../data_2023/tile_placement/' + file) as f:\n",
    "        df = pd.read_csv(f)\n",
    "        df_csv_append = pd.concat([df_csv_append, df], ignore_index=True)"
   ]
  },
  {
   "cell_type": "code",
   "execution_count": 4,
   "id": "8b9df0c2",
   "metadata": {},
   "outputs": [],
   "source": [
    "df_csv_append.to_csv('../data_2023/tile_placement.csv')"
   ]
  },
  {
   "cell_type": "code",
   "execution_count": null,
   "id": "3c5c1af1",
   "metadata": {},
   "outputs": [],
   "source": []
  }
 ],
 "metadata": {
  "kernelspec": {
   "display_name": "Python 3 (ipykernel)",
   "language": "python",
   "name": "python3"
  },
  "language_info": {
   "codemirror_mode": {
    "name": "ipython",
    "version": 3
   },
   "file_extension": ".py",
   "mimetype": "text/x-python",
   "name": "python",
   "nbconvert_exporter": "python",
   "pygments_lexer": "ipython3",
   "version": "3.11.4"
  }
 },
 "nbformat": 4,
 "nbformat_minor": 5
}
