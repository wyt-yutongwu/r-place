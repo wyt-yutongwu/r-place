{
 "cells": [
  {
   "cell_type": "code",
   "execution_count": 5,
   "id": "0a6c16c5",
   "metadata": {},
   "outputs": [],
   "source": [
    "import csv\n",
    "import sys\n",
    "import os\n",
    "import math\n",
    "import random\n",
    "import numpy as np\n",
    "import numpy.linalg as npla\n",
    "import scipy\n",
    "import sklearn\n",
    "from scipy import sparse\n",
    "from scipy import linalg\n",
    "import scipy.sparse.linalg as spla\n",
    "from scipy.spatial import distance\n",
    "import matplotlib.pyplot as plt\n",
    "from matplotlib import cm\n",
    "import matplotlib.mlab as mlab\n",
    "from mpl_toolkits.mplot3d import axes3d\n",
    "import operator\n",
    "import statistics\n",
    "import networkx as nx\n",
    "import matplotlib.pyplot as plt\n"
   ]
  },
  {
   "cell_type": "code",
   "execution_count": 6,
   "id": "28c89ecf",
   "metadata": {},
   "outputs": [],
   "source": [
    "import sys\n",
    "sys.path.append(\"../Python_code\") # go to parent dir\n",
    "from reddit import *\n",
    "from canvas_vis import *\n",
    "from project_data_analysis import *\n",
    "from generate_proj_to_remove import *"
   ]
  },
  {
   "cell_type": "code",
   "execution_count": 10,
   "id": "3f532d22",
   "metadata": {},
   "outputs": [],
   "source": [
    "#Run this before anything else!\n",
    "\n",
    "input_file_proj = \"../data/sorted_tile_placements_proj.csv\"\n",
    "input_file_proj_den_freq = \"../data/sorted_tile_placements_proj_den_freq.csv\"\n",
    "input_file_proj_den_users = \"../data/sorted_tile_placements_proj_den_users.csv\"\n",
    "\n",
    "# input_file_proj_den_freq = \"../data/tile_placements_denoised_freq_proj.csv\"\n",
    "# input_file_proj_den_users = \"../data/tile_placements_denoised_users_proj.csv\"\n",
    "# js_filename = \"../data/atlas.json\"\n",
    "js_filename = \"../data/atlas_complete.json\"\n",
    "\n",
    "#Projects to remove 777, 1921 (whole canvas), 1240, 1516 (1 pixel), 1319 (very incomplete)\n",
    "#1169, 42 (repeated American Flag, 1122), 1066 (repeated blue corner 67), \n",
    "#1757 (repeated the far left side 736), 1824 (climber's head, too small)\n",
    "#320 (repeated kenkistan/rainbow flat 3311)\n",
    "#351 (repeated erase the place 1297)\n",
    "#1046, 1073 (repeated channel orange 958)\n",
    "#998, 1870 (repeated darth plagueis the wise 75)\n",
    "#1383, 1493, 1823, 1818, 645, 1640 (Very small)\n",
    "#1811, 1925, 1927, 704, 1085, 1308, 1378, 1412, 1418, 1428, 1455, 1482, 1512, 1548, 1589, \n",
    "#1614, 1790, 939, 1263, 1383, 1155, 1524, 129, 1595, 1254, 1528, 1529, 1578, 1616, 1721 (Covered)\n",
    "# projects_to_remove = {'777', '1921', '1169', '42', '1066', '1757', '1824', '320', '998', '1870', '1811',\\\n",
    "#                      '1925', '1927', '704', '1085', '1308', '1378', '1412', '1418', '1428', '1455', '1482',\\\n",
    "#                       '1512', '1548', '1589', '1614', '1790', '1319', '939', '1263', '1383', '1155', '1761', \n",
    "#                      '1524', '351', '129', '1046', '1073', '1595', '1254', '1528', '1529', '1578', '1616',\\\n",
    "#                      '1721'}\n",
    "\n",
    "#projects_to_remove = get_list_of_removed_proj(output_filename = \"../data/proj_to_remove.txt\")\n",
    "# projects_to_remove_ints = {1416,1900,2012,637,2010,1014,1455,1482,61,1913,1820,1493,360,235,645,1797,1990,2016,1418,399,2021,1206,1935,1378,704,1890,1707,1616,1412,23,1715,1658,2004,2025,1512,1790,1811,1383,1649,1348,286,285,1936,1891,1640,49,1763,56,1210,1557,2023,1720,48,1228,1758,1692,1139,1994,1598,1641,581,789,1240,357,1809,2007,1818,1904,1979,2018,347,1908,1122,361,1624,1695,21,123,1308,1824,1970,1548,2,181,46,1319,1981,1976,1039,1659,1940,1516,1823,75,1289,81,1085,1925,236,1849}\n",
    "# projects_to_remove = set()\n",
    "# for item in projects_to_remove_ints:\n",
    "#     projects_to_remove.add(str(item))\n",
    "\n",
    "locations = store_locations(js_filename)\n",
    "projects_to_remove = {}\n",
    "\n",
    "names, descriptions = read_picture_names_and_descriptions_17(js_filename)"
   ]
  },
  {
   "cell_type": "code",
   "execution_count": 47,
   "id": "f9160932",
   "metadata": {},
   "outputs": [],
   "source": [
    "from sklearn.cluster import SpectralCoclustering\n",
    "\n",
    "user_proj_matrix_pixel, users_dict, proj_dict = user_project_matrix_pixel(input_file_proj, projects_to_remove)\n",
    "\n",
    "users_per_proj_list = users_per_project_list(input_file_proj, projects_to_remove)"
   ]
  },
  {
   "cell_type": "code",
   "execution_count": 12,
   "id": "292605a0",
   "metadata": {},
   "outputs": [],
   "source": [
    "# Create a reverse of proj_dict where the keys are the indexes into user_proj_matrix_pixel and the values are\n",
    "# the project ids\n",
    "proj_dict_reverse = dict()\n",
    "for proj_id in proj_dict:\n",
    "    proj_dict_reverse[ proj_dict[proj_id] ] = proj_id"
   ]
  },
  {
   "cell_type": "code",
   "execution_count": 15,
   "id": "0bf3289d",
   "metadata": {},
   "outputs": [],
   "source": [
    "def compute_edge_weight(val1, val2):\n",
    "    # Given two values, val1 and val2, where each value represents the number of updates that a single user's \n",
    "    # contributed to two different projects, compute the weight of the edge\n",
    "    return (val1 * val2) / (val1 + val2)"
   ]
  },
  {
   "cell_type": "code",
   "execution_count": 16,
   "id": "d48710d0",
   "metadata": {},
   "outputs": [],
   "source": [
    "def draw_graph(G, names = dict()):\n",
    "    '''\n",
    "        Draw the graph g.\n",
    "        All edges with a weight < weight_threshold will be colored red and be dashed\n",
    "        All edges with a weight >= weight_threshold will be colored black and be solid\n",
    "    '''\n",
    "    weight_threshold = 0.02\n",
    "    pos = nx.fruchterman_reingold_layout(G)\n",
    "#     pos = nx.kamada_kawai_layout(G)\n",
    "#     pos = nx.spring_layout(G,scale=2)\n",
    "\n",
    "\n",
    "    nx.draw_networkx_nodes(G,pos,node_color='green',node_size=20)\n",
    "    lower_weight_edges = list()\n",
    "    higher_weight_edges = list()\n",
    "    \n",
    "    for (node1,node2,data) in G.edges(data=True):\n",
    "        if data['weight'] < weight_threshold:\n",
    "            lower_weight_edges.append( (node1, node2) ) \n",
    "        else:\n",
    "            higher_weight_edges.append( (node1, node2) )\n",
    "    \n",
    "    # Plot the edges\n",
    "    nx.draw_networkx_edges(G, pos, width=2, edgelist=lower_weight_edges, edge_color='red', style='dashed')\n",
    "#     nx.draw_networkx_edges(G, pos, width=2, edgelist=higher_weight_edges, edge_color='black', style='solid')\n",
    "    nx.draw_networkx_labels(G, pos = pos, labels = names, font_size = 3)\n",
    "\n",
    "    plt.axis('off')\n",
    "    plt.figure(None,figsize=(20,20)) \n",
    "    plt.savefig(\"project_relationships_graph.png\", bbox_inches='tight', pad_inches=0) \n",
    "    plt.show() "
   ]
  },
  {
   "cell_type": "code",
   "execution_count": 48,
   "id": "f18af4b2",
   "metadata": {},
   "outputs": [],
   "source": [
    "def generate_graph(user_proj_matrix_pixel, threshold):    \n",
    "    W = np.zeros((user_proj_matrix_pixel.shape[1], user_proj_matrix_pixel.shape[1]))\n",
    "    \n",
    "    for u in range(user_proj_matrix_pixel.shape[0]):\n",
    "        for p1 in user_proj_matrix_pixel.rows[u]:\n",
    "            for p2 in user_proj_matrix_pixel.rows[u]:\n",
    "                if p1 < p2:\n",
    "                    W[p1,p2] +=1\n",
    "                elif p1 > p2:\n",
    "                    W[p2,p1] +=1\n",
    "    \n",
    "    g = nx.Graph()\n",
    "    \n",
    "    for proj in proj_dict_reverse:\n",
    "        g.add_node(proj)\n",
    "    \n",
    "    for p1 in range(user_proj_matrix_pixel.shape[1]):\n",
    "        for p2 in range(user_proj_matrix_pixel.shape[1]):\n",
    "            if p1 < p2 and W[p1,p2] > 0:\n",
    "                p1_id = proj_dict_reverse[p1]\n",
    "                p2_id = proj_dict_reverse[p2]\n",
    "                \n",
    "                if W[p1,p2] > threshold:\n",
    "                    print(\"threshold\")\n",
    "                    g.add_edge(p1_id,p2_id, weight=W[p1,p2])\n",
    "                    \n",
    "    gccs = sorted((g.subgraph(c) for c in nx.connected_components(g)), key=len, reverse=True)\n",
    "        \n",
    "    return gccs[0]"
   ]
  },
  {
   "cell_type": "code",
   "execution_count": 23,
   "id": "03836156",
   "metadata": {},
   "outputs": [
    {
     "name": "stdout",
     "output_type": "stream",
     "text": [
      "MAX: 10217.556040905432\n",
      "MIN: 0.5\n",
      "AVG: 5.7220056374684605\n",
      "MED: 0.9\n",
      "STD_DEV: 60.25418450485868\n"
     ]
    }
   ],
   "source": [
    "def analyze_project_to_project_weights(g):\n",
    "    # Print out the max, min, median, mean and standard deviation of all the edge weights of the graph g\n",
    "    all_weights = list()\n",
    "    avg = 0\n",
    "\n",
    "    for (node1,node2,data) in g.edges(data=True):\n",
    "        all_weights.append(data['weight'])\n",
    "        avg += data['weight']\n",
    "\n",
    "\n",
    "    max_weight = max(all_weights)\n",
    "    min_weight = min(all_weights)\n",
    "    avg = avg / len(all_weights)\n",
    "    med = statistics.median(all_weights)\n",
    "    std_dev = statistics.stdev(all_weights)\n",
    "    print(\"MAX:\", max_weight)\n",
    "    print(\"MIN:\",min_weight)\n",
    "    print(\"AVG:\",avg)\n",
    "    print(\"MED:\", med)\n",
    "    print(\"STD_DEV:\", std_dev)\n",
    "    \n",
    "analyze_project_to_project_weights(g)"
   ]
  },
  {
   "cell_type": "code",
   "execution_count": 51,
   "id": "bf7ef05c",
   "metadata": {},
   "outputs": [
    {
     "name": "stdout",
     "output_type": "stream",
     "text": [
      "threshold\n",
      "threshold\n",
      "threshold\n",
      "threshold\n",
      "threshold\n",
      "threshold\n",
      "threshold\n",
      "threshold\n",
      "threshold\n",
      "threshold\n",
      "threshold\n",
      "threshold\n",
      "threshold\n",
      "threshold\n",
      "threshold\n",
      "threshold\n",
      "threshold\n",
      "threshold\n",
      "threshold\n",
      "threshold\n",
      "threshold\n",
      "threshold\n",
      "threshold\n",
      "threshold\n",
      "threshold\n",
      "threshold\n",
      "threshold\n",
      "threshold\n",
      "threshold\n",
      "threshold\n",
      "threshold\n",
      "threshold\n",
      "threshold\n",
      "threshold\n",
      "threshold\n",
      "threshold\n",
      "threshold\n",
      "threshold\n",
      "threshold\n",
      "threshold\n",
      "threshold\n",
      "threshold\n",
      "threshold\n",
      "threshold\n",
      "threshold\n",
      "threshold\n",
      "threshold\n",
      "threshold\n",
      "threshold\n",
      "threshold\n",
      "threshold\n",
      "threshold\n",
      "threshold\n",
      "threshold\n",
      "threshold\n",
      "threshold\n",
      "threshold\n",
      "threshold\n",
      "threshold\n",
      "threshold\n",
      "threshold\n",
      "threshold\n",
      "threshold\n",
      "threshold\n",
      "threshold\n",
      "threshold\n",
      "threshold\n",
      "threshold\n",
      "threshold\n",
      "threshold\n",
      "threshold\n",
      "threshold\n",
      "threshold\n",
      "threshold\n",
      "threshold\n",
      "threshold\n",
      "threshold\n",
      "threshold\n",
      "threshold\n",
      "threshold\n",
      "threshold\n",
      "threshold\n",
      "threshold\n",
      "threshold\n",
      "threshold\n"
     ]
    }
   ],
   "source": [
    "# Normalize edge weights\n",
    "g = generate_graph(user_proj_matrix_pixel, 1000)\n",
    "#normalized_g = nx.Graph()\n",
    "#for (node1,node2,data) in g.edges(data=True):\n",
    "#    new_weight = data['weight'] / np.sqrt( g.degree(node1, weight = 'weight') * g.degree(node2, weight = 'weight') )\n",
    "#    normalized_g.add_edge(node1, node2, weight = new_weight)"
   ]
  },
  {
   "cell_type": "code",
   "execution_count": 52,
   "id": "f628124b",
   "metadata": {},
   "outputs": [
    {
     "data": {
      "text/plain": [
       "55"
      ]
     },
     "execution_count": 52,
     "metadata": {},
     "output_type": "execute_result"
    }
   ],
   "source": [
    "len(g.nodes())"
   ]
  },
  {
   "cell_type": "code",
   "execution_count": 29,
   "id": "a34a9322",
   "metadata": {},
   "outputs": [],
   "source": [
    "# Remove all edges under unnormalized threshold\n",
    "# This doesnt work for some reason. \n",
    "# Copy-paste to use\n",
    "def remove_edges(g, threshold = 0.001, print_data = True):\n",
    "\n",
    "    edges_to_remove = list()\n",
    "\n",
    "    for (node1,node2,data) in g.edges(data=True):\n",
    "        if data['weight'] <= threshold:\n",
    "            edges_to_remove.append((node1, node2))\n",
    "\n",
    "    for (node1, node2) in edges_to_remove:\n",
    "        g.remove_edge(node1, node2)\n",
    "\n",
    "    if print_data:\n",
    "        print(len(edges_to_remove), \"edges removed\")\n",
    "        print(len(g.edges),\"edges remaining\")\n",
    "        analyze_project_to_project_weights(g)"
   ]
  },
  {
   "cell_type": "code",
   "execution_count": 27,
   "id": "f609298f",
   "metadata": {},
   "outputs": [
    {
     "name": "stdout",
     "output_type": "stream",
     "text": [
      "1 nodes removed\n",
      "1400 nodes remaining\n"
     ]
    }
   ],
   "source": [
    "# Check now whether there are any projects with no edges\n",
    "# This would mean all of the edge weights must've been under threshold\n",
    "nodes_to_remove = list(nx.isolates(g))\n",
    "g.remove_nodes_from(nodes_to_remove)\n",
    "print(len(nodes_to_remove),\"nodes removed\")\n",
    "print(len(g.nodes()),\"nodes remaining\")"
   ]
  },
  {
   "cell_type": "code",
   "execution_count": 41,
   "id": "4781f547",
   "metadata": {},
   "outputs": [
    {
     "data": {
      "image/png": "[encoded data removed]",
      "text/plain": [
       "<Figure size 640x480 with 1 Axes>"
      ]
     },
     "metadata": {},
     "output_type": "display_data"
    },
    {
     "data": {
      "text/plain": [
       "<Figure size 2000x2000 with 0 Axes>"
      ]
     },
     "metadata": {},
     "output_type": "display_data"
    }
   ],
   "source": [
    "# nx.write_gexf(g, \"test_graph.gexf\")\n",
    "draw_graph(g)"
   ]
  },
  {
   "cell_type": "code",
   "execution_count": null,
   "id": "763d1dc5",
   "metadata": {},
   "outputs": [],
   "source": []
  }
 ],
 "metadata": {
  "kernelspec": {
   "display_name": "Python 3 (ipykernel)",
   "language": "python",
   "name": "python3"
  },
  "language_info": {
   "codemirror_mode": {
    "name": "ipython",
    "version": 3
   },
   "file_extension": ".py",
   "mimetype": "text/x-python",
   "name": "python",
   "nbconvert_exporter": "python",
   "pygments_lexer": "ipython3",
   "version": "3.11.4"
  }
 },
 "nbformat": 4,
 "nbformat_minor": 5
}
