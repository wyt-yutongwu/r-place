{
 "cells": [
  {
   "cell_type": "code",
   "execution_count": 2,
   "id": "995704b2",
   "metadata": {
    "execution": {
     "iopub.execute_input": "2023-11-19T18:52:05.931427Z",
     "iopub.status.busy": "2023-11-19T18:52:05.931150Z",
     "iopub.status.idle": "2023-11-19T18:52:06.841108Z",
     "shell.execute_reply": "2023-11-19T18:52:06.839941Z"
    }
   },
   "outputs": [],
   "source": [
    "#import basic libraries\n",
    "\n",
    "import csv\n",
    "import sys\n",
    "import os\n",
    "import math\n",
    "import numpy as np\n",
    "import numpy.linalg as npla\n",
    "import scipy\n",
    "from scipy import sparse\n",
    "from scipy import linalg\n",
    "import scipy.sparse.linalg as spla\n",
    "import matplotlib.pyplot as plt \n",
    "from matplotlib import cm\n",
    "import matplotlib.mlab as mlab\n",
    "from mpl_toolkits.mplot3d import axes3d\n",
    "sys.path.append(\"../Python_code\") # go to parent dir\n",
    "from canvas_vis import *\n",
    "from evaluation import *"
   ]
  },
  {
   "cell_type": "code",
   "execution_count": 3,
   "id": "a1f81a35",
   "metadata": {
    "execution": {
     "iopub.execute_input": "2023-11-19T18:52:06.848372Z",
     "iopub.status.busy": "2023-11-19T18:52:06.847123Z",
     "iopub.status.idle": "2023-11-19T18:52:06.852985Z",
     "shell.execute_reply": "2023-11-19T18:52:06.852474Z"
    }
   },
   "outputs": [],
   "source": [
    "input_file = '../data/sorted_tile_placements_idx.csv'"
   ]
  },
  {
   "cell_type": "code",
   "execution_count": 7,
   "id": "8de54e4f",
   "metadata": {
    "execution": {
     "iopub.execute_input": "2023-11-19T18:52:06.855300Z",
     "iopub.status.busy": "2023-11-19T18:52:06.855118Z",
     "iopub.status.idle": "2023-11-19T18:52:06.878226Z",
     "shell.execute_reply": "2023-11-19T18:52:06.877211Z"
    }
   },
   "outputs": [],
   "source": [
    "## 1491191141000\n",
    "start_time = 1490918688000\n",
    "end_time = 1491238734000\n",
    "curr_canvas = np.array(-1 * np.ones((1001, 1001)), dtype='uint32')\n",
    "#anvas_u = np.array(np.zeros())\n",
    "curr_time = start_time"
   ]
  },
  {
   "cell_type": "code",
   "execution_count": 8,
   "id": "c03ba4b6",
   "metadata": {
    "execution": {
     "iopub.execute_input": "2023-11-19T18:52:06.882597Z",
     "iopub.status.busy": "2023-11-19T18:52:06.882190Z",
     "iopub.status.idle": "2023-11-19T20:00:34.439904Z",
     "shell.execute_reply": "2023-11-19T20:00:34.333549Z"
    }
   },
   "outputs": [],
   "source": [
    "with open(input_file,'r') as file:\n",
    "    next(file, None)\n",
    "    reader = csv.reader(file)\n",
    "    for r in reader:\n",
    "        update = int(r[0])\n",
    "        time = int(r[1])\n",
    "#         user = str(r[1])\n",
    "        x = int(r[3])\n",
    "        y = int(r[4])\n",
    "#         color = int(r[4])\n",
    "#         if time != curr_time:\n",
    "#             np.save(\"/home/yw180/place/data/updates/update_\" + str(curr_time) + \".npy\", curr_canvas)\n",
    "#             curr_time = time\n",
    "#         rgb = hex_to_rgb[code_to_hex[color]]\n",
    "        curr_canvas[y,x]=update\n",
    "        \n",
    "#     np.save(\"/home/yw180/place/data/updates/update_\" + str(curr_time) + \".npy\", curr_canvas)"
   ]
  },
  {
   "cell_type": "code",
   "execution_count": 10,
   "id": "75065cfb",
   "metadata": {},
   "outputs": [],
   "source": [
    "times = [1490980000000, 1491000000000,1491018000000, 1491115000000,1491118000000,1491218000000, 1491220000000 ,1491223000000,1491238400000,1491238734000]"
   ]
  },
  {
   "cell_type": "code",
   "execution_count": 11,
   "id": "a1b50b04",
   "metadata": {},
   "outputs": [],
   "source": [
    "final_canvas_info = np.load(\"/home/yw180/place/data/final_canvas_idx.npy\")"
   ]
  },
  {
   "cell_type": "code",
   "execution_count": 13,
   "id": "9b33caad",
   "metadata": {},
   "outputs": [],
   "source": [
    "for t in times:\n",
    "    curr_canvas = np.load(\"/home/yw180/place/data/updates/update_\"+str(time)+\".npy\")\n",
    "    mask = np.zeros((1001, 1001))\n",
    "    for i in range(0, 1001):\n",
    "        for j in range(0, 1001):\n",
    "            if curr_canvas[j,i] == final_canvas_info[j,i] and final_canvas_info[j,i] != -1:\n",
    "                mask[j,i] =1\n",
    "    np.save(\"/home/yw180/place/data/mask/mask_\"+str(t)+\".npy\", mask)"
   ]
  },
  {
   "cell_type": "code",
   "execution_count": 3,
   "id": "1133b4a4",
   "metadata": {},
   "outputs": [],
   "source": [
    "gt = create_ground_truth(\"../data/sorted_tile_placements_proj.csv\")"
   ]
  },
  {
   "cell_type": "code",
   "execution_count": 5,
   "id": "94cea66e",
   "metadata": {},
   "outputs": [],
   "source": [
    "final_canvas_label = np.zeros((1001, 1001))\n",
    "for key in gt:\n",
    "    num = int(key)\n",
    "    s = gt[key]\n",
    "    for tup in s:\n",
    "        x = int(tup[2])\n",
    "        y = int(tup[3])\n",
    "        final_canvas_label[y,x] = num"
   ]
  },
  {
   "cell_type": "code",
   "execution_count": 7,
   "id": "d534701f",
   "metadata": {},
   "outputs": [],
   "source": [
    "np.save(\"/home/yw180/place/data/final_canvas_label.npy\",final_canvas_label)"
   ]
  },
  {
   "cell_type": "code",
   "execution_count": 8,
   "id": "9257ede8",
   "metadata": {},
   "outputs": [
    {
     "data": {
      "text/plain": [
       "array([[  73.,   73.,   73., ...,  135.,  135.,    0.],\n",
       "       [  73.,   73.,   73., ...,  135.,  135.,    0.],\n",
       "       [  73.,   73.,   73., ...,  135.,  135.,    0.],\n",
       "       ...,\n",
       "       [  56.,   56.,   56., ..., 1066., 1066.,    0.],\n",
       "       [  56.,   56.,   56., ..., 1066., 1066.,    0.],\n",
       "       [   0.,    0.,    0., ...,    0.,    0.,    0.]])"
      ]
     },
     "execution_count": 8,
     "metadata": {},
     "output_type": "execute_result"
    }
   ],
   "source": [
    "final_canvas_label"
   ]
  },
  {
   "cell_type": "raw",
   "id": "473ec3bd",
   "metadata": {},
   "source": [
    "curr_t_idx = 0\n",
    "curr_canvas = np.array(-1 * np.ones((1001, 1001)))\n",
    "with open(final_canvas_file, 'r') as file:\n",
    "    next(file, None)\n",
    "    reader = csv.reader(file)\n",
    "    for r in reader:\n",
    "        idx = int(r[0])\n",
    "        time = int(r[1])\n",
    "        x = int(r[3])\n",
    "        y = int(r[4])\n",
    "        if time > times[curr_t_idx]:\n",
    "            mask = np.zeros((1001, 1001))\n",
    "            for i in range(0, 1001):\n",
    "                for j in range(0, 1001):\n",
    "                    if curr_canvas[j,i] == final_canvas_info[j,i] and final_canvas_info[j,i] != -1:\n",
    "                        mask[j,i] =1\n",
    "            np.save(\"/home/yw180/place/data/mask/mask_\"+str(times[curr_t_idx])+\".npy\", mask)\n",
    "\n",
    "            curr_t_idx += 1\n",
    "            if curr_t_idx == len(times):\n",
    "                break\n",
    "        curr_canvas[y,x] = idx"
   ]
  },
  {
   "cell_type": "raw",
   "id": "a127e7d6",
   "metadata": {},
   "source": [
    "tst = np.load(\"/home/yw180/place/data/mask/mask_1491238734000.npy\")"
   ]
  },
  {
   "cell_type": "raw",
   "id": "e0ea5066",
   "metadata": {},
   "source": [
    "for i in range(0, 1001):\n",
    "    for j in range(0, 1001):\n",
    "        if curr_canvas[j,i] == final_canvas_info[j,i] and final_canvas_info[j,i] != -1:\n",
    "            mask[j,i] =1\n",
    "np.save(\"/home/yw180/place/data/mask/mask_1491238734000.npy\", mask)"
   ]
  },
  {
   "cell_type": "code",
   "execution_count": 11,
   "id": "485bfba8",
   "metadata": {},
   "outputs": [],
   "source": [
    "final_canvas_label = np.array(-1*np.ones((1001,1001)))"
   ]
  },
  {
   "cell_type": "code",
   "execution_count": 12,
   "id": "9e4df1f2",
   "metadata": {},
   "outputs": [],
   "source": [
    "input_file = '../data/sorted_tile_placements_proj.csv'"
   ]
  },
  {
   "cell_type": "code",
   "execution_count": 15,
   "id": "081881b5",
   "metadata": {},
   "outputs": [],
   "source": [
    "with open(input_file,'r') as file:\n",
    "    next(file, None)\n",
    "    reader = csv.reader(file)\n",
    "    for r in reader:\n",
    "#         user = str(r[1])\n",
    "        x = int(r[2])\n",
    "        y = int(r[3])\n",
    "        proj_id=int(r[5])\n",
    "        smallest=int(r[8])\n",
    "        final=int(r[6])\n",
    "        if not final:\n",
    "            continue\n",
    "        if smallest:\n",
    "            final_canvas_label[y,x] = proj_id\n",
    "#         color = int(r[4])\n",
    "#         if time != curr_time:\n",
    "#             np.save(\"/home/yw180/place/data/updates/update_\" + str(curr_time) + \".npy\", curr_canvas)\n",
    "#             curr_time = time\n",
    "#         rgb = hex_to_rgb[code_to_hex[color]]\n",
    "        \n",
    "#     np.save(\"/home/yw180/place/data/updates/update_\" + str(curr_time) + \".npy\", curr_canvas)"
   ]
  },
  {
   "cell_type": "code",
   "execution_count": 17,
   "id": "15290b92",
   "metadata": {},
   "outputs": [],
   "source": [
    "final_canvas_label = np.array(final_canvas_label,dtype='short')"
   ]
  },
  {
   "cell_type": "code",
   "execution_count": 18,
   "id": "9a1f944e",
   "metadata": {},
   "outputs": [
    {
     "data": {
      "text/plain": [
       "array([[  73,   73,   73, ...,  135,  135,   -1],\n",
       "       [  73,   73,   73, ...,  135,  135,   -1],\n",
       "       [  73,   73,   73, ...,  135,  135,   -1],\n",
       "       ...,\n",
       "       [  56,   56,   56, ..., 1066, 1066,   -1],\n",
       "       [  56,   56,   56, ..., 1066, 1066,   -1],\n",
       "       [  -1,   -1,   -1, ...,   -1,   -1,   -1]], dtype=int16)"
      ]
     },
     "execution_count": 18,
     "metadata": {},
     "output_type": "execute_result"
    }
   ],
   "source": [
    "final_canvas_label"
   ]
  },
  {
   "cell_type": "code",
   "execution_count": 19,
   "id": "d85ae83d",
   "metadata": {},
   "outputs": [],
   "source": [
    "import struct"
   ]
  },
  {
   "cell_type": "code",
   "execution_count": 20,
   "id": "f04efcb8",
   "metadata": {},
   "outputs": [],
   "source": [
    "values = list(np.arange(10))"
   ]
  },
  {
   "cell_type": "code",
   "execution_count": 21,
   "id": "1b652818",
   "metadata": {},
   "outputs": [],
   "source": [
    "with open(\"file\",\"wb\") as f:\n",
    "    for v in values:\n",
    "        f.write(struct.pack(\"I\", values[v])) #https://docs.python.org/3/library/struct.html"
   ]
  },
  {
   "cell_type": "code",
   "execution_count": 22,
   "id": "b526875f",
   "metadata": {},
   "outputs": [],
   "source": [
    "length = len(struct.pack(\"I\", 0)) #in bytes"
   ]
  },
  {
   "cell_type": "code",
   "execution_count": 24,
   "id": "b9ce48ca",
   "metadata": {},
   "outputs": [
    {
     "data": {
      "text/plain": [
       "[0, 1, 2, 3, 4, 5, 6, 7, 8, 9]"
      ]
     },
     "execution_count": 24,
     "metadata": {},
     "output_type": "execute_result"
    }
   ],
   "source": [
    "values"
   ]
  },
  {
   "cell_type": "code",
   "execution_count": 28,
   "id": "11b754ae",
   "metadata": {},
   "outputs": [
    {
     "name": "stdout",
     "output_type": "stream",
     "text": [
      "0\n",
      "1\n"
     ]
    }
   ],
   "source": [
    "with open(\"file\",\"rb\") as f:\n",
    "    v = struct.unpack(\"I\", f.read(length))[0]\n",
    "    print(v)\n",
    "    v = struct.unpack(\"I\", f.read(length))[0]\n",
    "    print(v)"
   ]
  },
  {
   "cell_type": "code",
   "execution_count": null,
   "id": "eea7b5fa",
   "metadata": {},
   "outputs": [],
   "source": [
    "struct.unpack(\"\")"
   ]
  }
 ],
 "metadata": {
  "kernelspec": {
   "display_name": "Python 3 (ipykernel)",
   "language": "python",
   "name": "python3"
  },
  "language_info": {
   "codemirror_mode": {
    "name": "ipython",
    "version": 3
   },
   "file_extension": ".py",
   "mimetype": "text/x-python",
   "name": "python",
   "nbconvert_exporter": "python",
   "pygments_lexer": "ipython3",
   "version": "3.11.4"
  }
 },
 "nbformat": 4,
 "nbformat_minor": 5
}
