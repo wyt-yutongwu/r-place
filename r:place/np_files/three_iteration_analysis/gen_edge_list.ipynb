{
 "cells": [
  {
   "cell_type": "code",
   "execution_count": 1,
   "id": "4c105006",
   "metadata": {
    "execution": {
     "iopub.execute_input": "2023-10-03T16:09:26.559766Z",
     "iopub.status.busy": "2023-10-03T16:09:26.559543Z",
     "iopub.status.idle": "2023-10-03T16:09:27.775528Z",
     "shell.execute_reply": "2023-10-03T16:09:27.774348Z"
    }
   },
   "outputs": [],
   "source": [
    "import csv\n",
    "import sys\n",
    "import os\n",
    "import re\n",
    "import math\n",
    "import random\n",
    "import numpy as np\n",
    "import numpy.linalg as npla\n",
    "import scipy\n",
    "import sklearn\n",
    "from scipy import sparse\n",
    "from scipy import linalg\n",
    "import scipy.sparse.linalg as spla\n",
    "from scipy.spatial import distance\n",
    "import matplotlib.pyplot as plt\n",
    "from matplotlib import cm\n",
    "import matplotlib.mlab as mlab\n",
    "from mpl_toolkits.mplot3d import axes3d\n",
    "import operator\n",
    "import statistics\n",
    "import networkx as nx\n",
    "import matplotlib.pyplot as plt\n",
    "from multiprocessing.pool import ThreadPool\n"
   ]
  },
  {
   "cell_type": "code",
   "execution_count": 2,
   "id": "7ce4ce7a",
   "metadata": {
    "execution": {
     "iopub.execute_input": "2023-10-03T16:09:27.782079Z",
     "iopub.status.busy": "2023-10-03T16:09:27.781364Z",
     "iopub.status.idle": "2023-10-03T16:09:27.788433Z",
     "shell.execute_reply": "2023-10-03T16:09:27.787993Z"
    }
   },
   "outputs": [],
   "source": [
    "def generate_edges(writer, filename, update_canvas):\n",
    "    seg = np.load(filename)\n",
    "    for x in range(0, 1001):\n",
    "        for y in range(0, 1001):\n",
    "            curr_pixel_seg_num = seg[y,x]\n",
    "            if update_canvas[y,x,0]==\"0.0\":\n",
    "                continue\n",
    "            for tup in [(0,1),(1,0)]:\n",
    "                i = tup[0]\n",
    "                j = tup[1]\n",
    "                if x + i < 0 or x + i >= 1001 or y + j < 0 or y + j >= 1001:\n",
    "                    continue\n",
    "                if update_canvas[y+j,x+i,0] == \"0.0\": \n",
    "                    continue\n",
    "#                 print(\"i,j\", i,j)\n",
    "#                 print(\"tuple\", tup)\n",
    "#                 print(\"x,y\", x, y)\n",
    "#                 print(\"x+i, y+j\", x+i,y+j)\n",
    "                seg_num = seg[y+j,x+i]\n",
    "#                 print(\"seg_num\",seg_num)\n",
    "#                 print(\"curr_seg_num\", curr_pixel_seg_num)\n",
    "#                 print(seg)\n",
    "                if seg_num == curr_pixel_seg_num:\n",
    "                    size = np.count_nonzero(seg == seg_num)\n",
    "                    up1 = update_canvas[y,x]\n",
    "                    up1_time = int(up1[1])\n",
    "                    up2 = update_canvas[y+j,x+i]\n",
    "                    up2_time = int(up2[1])\n",
    "                    if up1_time < up2_time:\n",
    "                        writer.writerow([up1[0], up2[0], str(size)])\n",
    "                    else:\n",
    "                        writer.writerow([up2[0], up1[0], str(size)])"
   ]
  },
  {
   "cell_type": "code",
   "execution_count": 3,
   "id": "866da6f4",
   "metadata": {
    "execution": {
     "iopub.execute_input": "2023-10-03T16:09:27.790895Z",
     "iopub.status.busy": "2023-10-03T16:09:27.790682Z",
     "iopub.status.idle": "2023-10-03T18:16:26.904177Z",
     "shell.execute_reply": "2023-10-03T18:16:26.901847Z"
    }
   },
   "outputs": [],
   "source": [
    "update_canvas = np.array(np.zeros((1001,1001,6)), dtype = 'str')\n",
    "input_file = \"../data/sorted_tile_placements_idx.csv\"\n",
    "curr_time = 1490918688000\n",
    "with open(input_file, 'r') as file:\n",
    "    next(file, None)\n",
    "    reader = csv.reader(file)\n",
    "    for r in reader:\n",
    "        x = int(r[3])\n",
    "        y = int(r[4])\n",
    "        time = int(r[1])\n",
    "        idx = int(r[0])\n",
    "        if curr_time != time:\n",
    "            filename = \"/home/yw180/place/data/seg_out_last_20/\"+str(time) +\".npy\"\n",
    "            if os.path.exists(filename):\n",
    "     #           print(\"in exists\")\n",
    "                with open(\"/home/yw180/place/data/edge_list_last_20/\"+str(time) +\".csv\", 'w') as file_out:\n",
    "                    writer = csv.writer(file_out, delimiter = \",\")\n",
    "                    generate_edges(writer, filename, update_canvas)\n",
    "            curr_time = time\n",
    "        update_canvas[y,x] = r"
   ]
  },
  {
   "cell_type": "code",
   "execution_count": null,
   "id": "4e485482",
   "metadata": {},
   "outputs": [],
   "source": []
  }
 ],
 "metadata": {
  "kernelspec": {
   "display_name": "Python 3 (ipykernel)",
   "language": "python",
   "name": "python3"
  },
  "language_info": {
   "codemirror_mode": {
    "name": "ipython",
    "version": 3
   },
   "file_extension": ".py",
   "mimetype": "text/x-python",
   "name": "python",
   "nbconvert_exporter": "python",
   "pygments_lexer": "ipython3",
   "version": "3.11.4"
  }
 },
 "nbformat": 4,
 "nbformat_minor": 5
}
