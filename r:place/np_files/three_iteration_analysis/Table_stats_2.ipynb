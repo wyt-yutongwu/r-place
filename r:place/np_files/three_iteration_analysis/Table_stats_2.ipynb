{
 "cells": [
  {
   "cell_type": "code",
   "execution_count": 1,
   "id": "d10c1087",
   "metadata": {
    "execution": {
     "iopub.execute_input": "2023-09-21T21:06:34.812510Z",
     "iopub.status.busy": "2023-09-21T21:06:34.811984Z",
     "iopub.status.idle": "2023-09-21T21:06:35.761729Z",
     "shell.execute_reply": "2023-09-21T21:06:35.761221Z"
    }
   },
   "outputs": [],
   "source": [
    "#import basic libraries\n",
    "\n",
    "import csv\n",
    "import sys\n",
    "import os\n",
    "import math\n",
    "import numpy as np\n",
    "import numpy.linalg as npla\n",
    "import scipy\n",
    "from scipy import sparse\n",
    "from scipy import linalg\n",
    "import scipy.sparse.linalg as spla\n",
    "import matplotlib.pyplot as plt\n",
    "from matplotlib import cm\n",
    "import matplotlib.mlab as mlab\n",
    "from mpl_toolkits.mplot3d import axes3d\n",
    "#%matplotlib tk\n",
    "import operator\n",
    "sys.path.append(\"../Python_code\") # go to parent dir\n",
    "from reddit import *\n",
    "from analytics_combined import *\n",
    "import pandas as pd"
   ]
  },
  {
   "cell_type": "code",
   "execution_count": 2,
   "id": "4d399ab3",
   "metadata": {
    "execution": {
     "iopub.execute_input": "2023-09-21T21:06:35.766717Z",
     "iopub.status.busy": "2023-09-21T21:06:35.766009Z",
     "iopub.status.idle": "2023-09-21T21:06:36.149982Z",
     "shell.execute_reply": "2023-09-21T21:06:36.149443Z"
    }
   },
   "outputs": [],
   "source": [
    "import sys\n",
    "sys.path.append(\"../Python_code\") # go to parent dir\n",
    "from reddit import *\n",
    "from canvas_vis import *\n",
    "from project_data_analysis import *\n",
    "from generate_proj_to_remove import *"
   ]
  },
  {
   "cell_type": "code",
   "execution_count": 3,
   "id": "7327178c",
   "metadata": {
    "execution": {
     "iopub.execute_input": "2023-09-21T21:06:36.153146Z",
     "iopub.status.busy": "2023-09-21T21:06:36.152695Z",
     "iopub.status.idle": "2023-09-21T21:06:41.634982Z",
     "shell.execute_reply": "2023-09-21T21:06:41.633671Z"
    }
   },
   "outputs": [],
   "source": [
    "#Run this before anything else!\n",
    "\n",
    "\n",
    "input_file_proj_22 = \"../data_2022/tile_placements_proj.csv\"\n",
    "input_file_proj_23 = \"../data_2023/tile_placements_proj.csv\"\n",
    "\n",
    "tile_placement_22 = \"../data_2022/tile_placements_before_whiteout.csv\"\n",
    "tile_placement_23 = \"../data_2023/tile_placements_before_whiteout.csv\"\n",
    "\n",
    "#input_file_proj_den_freq = \"../data/sorted_tile_placements_proj_den_freq.csv\"\n",
    "#input_file_proj_den_users = \"../data/sorted_tile_placements_proj_den_users.csv\"\n",
    "\n",
    "projects_to_remove = {}\n",
    "\n",
    "# js_filename = \"../data/atlas.json\"\n",
    "js_filename_23 = \"../data_2023/atlas/atlas.json\"\n",
    "js_filename_22 = \"../data_2022/atlas/atlas.json\"\n",
    "\n",
    "locations_22 = store_locations_22(js_filename_22)\n",
    "\n",
    "names_22, descriptions_22 = read_picture_names_and_descriptions(js_filename_22)\n",
    "\n",
    "locations_23 = store_locations_22(js_filename_23)\n",
    "\n",
    "names_23, descriptions_23 = read_picture_names_and_descriptions(js_filename_23)"
   ]
  },
  {
   "cell_type": "markdown",
   "id": "1fe2603b",
   "metadata": {},
   "source": [
    "# Max number of pixels placed by one user"
   ]
  },
  {
   "cell_type": "code",
   "execution_count": 4,
   "id": "abc12418",
   "metadata": {
    "execution": {
     "iopub.execute_input": "2023-09-21T21:06:41.641688Z",
     "iopub.status.busy": "2023-09-21T21:06:41.641093Z",
     "iopub.status.idle": "2023-09-21T21:06:41.647611Z",
     "shell.execute_reply": "2023-09-21T21:06:41.647008Z"
    }
   },
   "outputs": [],
   "source": [
    "def count_user_pixel(input_file):\n",
    "    user_pixel = dict()\n",
    "    with open(input_file,'r') as file:\n",
    "        next(file,None)\n",
    "        reader = csv.reader(file)\n",
    "        for r in reader:\n",
    "            coord = (r[2],r[3])\n",
    "            user = r[1]\n",
    "            if user in user_pixel:\n",
    "                user_pixel[user].add(coord)\n",
    "            else:\n",
    "                user_pixel[user] = {coord}\n",
    "    user_pixel_count = dict()\n",
    "    for user in user_pixel:\n",
    "        user_pixel_count[user] = len(user_pixel[user])\n",
    "    return user_pixel_count"
   ]
  },
  {
   "cell_type": "code",
   "execution_count": 5,
   "id": "aa119364",
   "metadata": {
    "execution": {
     "iopub.execute_input": "2023-09-21T21:06:41.650451Z",
     "iopub.status.busy": "2023-09-21T21:06:41.650062Z",
     "iopub.status.idle": "2023-09-21T21:21:31.270284Z",
     "shell.execute_reply": "2023-09-21T21:21:31.267181Z"
    }
   },
   "outputs": [],
   "source": [
    "user_pixel = count_user_pixel(tile_placement_22)"
   ]
  },
  {
   "cell_type": "code",
   "execution_count": 6,
   "id": "e766d5d5",
   "metadata": {
    "execution": {
     "iopub.execute_input": "2023-09-21T21:21:31.345204Z",
     "iopub.status.busy": "2023-09-21T21:21:31.344224Z",
     "iopub.status.idle": "2023-09-21T21:21:34.331206Z",
     "shell.execute_reply": "2023-09-21T21:21:34.330399Z"
    }
   },
   "outputs": [
    {
     "name": "stdout",
     "output_type": "stream",
     "text": [
      "[('kgZoJz//JpfXgowLxOhcQlFYOCm8m6upa6Rpltcc63K6Cz0vEWJF/RYmlsaXsIQEbXrwz+Il3BkD8XZVx7YMLQ==', 693), ('DspItMbX4x7ZD/Ozqke3BL3IQs40A3suoSQ8mb5V7Nu8Z1nYWWzGaFSj7UtRC0W75P7JfJ3W+4ne36EiBuo2YQ==', 687), ('K54RRTUCFuOU55RzSTkjo/ftbJqVi9miyt52YV6NlENRfUyJTPJKBC47N/s2eh4iNdAKMKxa3gvL2XFqCc9AqQ==', 682), ('JMlte6XKe+nnFvxcjT0hHDYYNgiDXZVOkhr6KT60EtJAGaezxc4e/eah6JzTReWNdTH4fLueQ20A4drmfqbqsw==', 661), ('/WGJoCWq1YMVOceGyK6aJKBuXZemxkEjC5PQRybz44A+lYcxITkMOQLc0nCl5URJi9yaAHhBp1aTt6ed48chiw==', 649), ('TMlARGMJdmz7l+tFyl35z+/JmxfKQ4v+J5R49Hsin840+Wa+bzWNhQuj0/1L/FU2Hr36mrM9KAjCFtZfSfeTrg==', 646), ('VHg2OiSkbBCDTTl1W41fdvDSJk/QtKsdsufSZomBPV3cr2K8+0RW4ILyT1Bmot0bU3bOJyHRPW/w60Y5so4F1g==', 634), ('E4eoXRF/Ewkz6QHjkud/j6RYLWinar5BPzdfsOJNakLzmAIqDML2XbhCoOirqLfdDFQG2YFD01ofkuFVVo6WRw==', 631), ('M5ALAb3N0o/fsoBJPcgb4K2bQZvbrKBEUjnGn8ilMF6pz4vQVWHwaTdq2z6tYo1ASQTrZHoJIaeSNywc0Pl1PA==', 621), ('HUChBTJUWVtsb7nPdwDGS/NBvZqg4HvqNxo3AZbbU+VxEf0jLyGUvLyLbv2rQPcWbFL/mHPqGuDfhgkC1U2qVA==', 614)]\n",
      "User #1 , Num Pixels:  ('kgZoJz//JpfXgowLxOhcQlFYOCm8m6upa6Rpltcc63K6Cz0vEWJF/RYmlsaXsIQEbXrwz+Il3BkD8XZVx7YMLQ==', 693)\n",
      "User #2 , Num Pixels:  ('DspItMbX4x7ZD/Ozqke3BL3IQs40A3suoSQ8mb5V7Nu8Z1nYWWzGaFSj7UtRC0W75P7JfJ3W+4ne36EiBuo2YQ==', 687)\n",
      "User #3 , Num Pixels:  ('K54RRTUCFuOU55RzSTkjo/ftbJqVi9miyt52YV6NlENRfUyJTPJKBC47N/s2eh4iNdAKMKxa3gvL2XFqCc9AqQ==', 682)\n",
      "User #4 , Num Pixels:  ('JMlte6XKe+nnFvxcjT0hHDYYNgiDXZVOkhr6KT60EtJAGaezxc4e/eah6JzTReWNdTH4fLueQ20A4drmfqbqsw==', 661)\n",
      "User #5 , Num Pixels:  ('/WGJoCWq1YMVOceGyK6aJKBuXZemxkEjC5PQRybz44A+lYcxITkMOQLc0nCl5URJi9yaAHhBp1aTt6ed48chiw==', 649)\n",
      "User #6 , Num Pixels:  ('TMlARGMJdmz7l+tFyl35z+/JmxfKQ4v+J5R49Hsin840+Wa+bzWNhQuj0/1L/FU2Hr36mrM9KAjCFtZfSfeTrg==', 646)\n",
      "User #7 , Num Pixels:  ('VHg2OiSkbBCDTTl1W41fdvDSJk/QtKsdsufSZomBPV3cr2K8+0RW4ILyT1Bmot0bU3bOJyHRPW/w60Y5so4F1g==', 634)\n",
      "User #8 , Num Pixels:  ('E4eoXRF/Ewkz6QHjkud/j6RYLWinar5BPzdfsOJNakLzmAIqDML2XbhCoOirqLfdDFQG2YFD01ofkuFVVo6WRw==', 631)\n",
      "User #9 , Num Pixels:  ('M5ALAb3N0o/fsoBJPcgb4K2bQZvbrKBEUjnGn8ilMF6pz4vQVWHwaTdq2z6tYo1ASQTrZHoJIaeSNywc0Pl1PA==', 621)\n",
      "User #10 , Num Pixels:  ('HUChBTJUWVtsb7nPdwDGS/NBvZqg4HvqNxo3AZbbU+VxEf0jLyGUvLyLbv2rQPcWbFL/mHPqGuDfhgkC1U2qVA==', 614)\n"
     ]
    }
   ],
   "source": [
    "sorted_up_user = sorted(user_pixel.items(), key=operator.itemgetter(1), reverse=True)\n",
    "print(sorted_up_user[:10])\n",
    "#Top-10\n",
    "for i in range(10):\n",
    "    proj = sorted_up_user[i]\n",
    "    up = sorted_up_user[i]\n",
    "\n",
    "    print(\"User #\" + str(i + 1), \", Num Pixels: \", up)"
   ]
  },
  {
   "cell_type": "code",
   "execution_count": 7,
   "id": "a849986d",
   "metadata": {
    "execution": {
     "iopub.execute_input": "2023-09-21T21:21:34.377878Z",
     "iopub.status.busy": "2023-09-21T21:21:34.377209Z",
     "iopub.status.idle": "2023-09-21T21:37:35.248798Z",
     "shell.execute_reply": "2023-09-21T21:37:35.247487Z"
    }
   },
   "outputs": [],
   "source": [
    "user_pixel = count_user_pixel(tile_placement_23)"
   ]
  },
  {
   "cell_type": "code",
   "execution_count": 8,
   "id": "d2753097",
   "metadata": {
    "execution": {
     "iopub.execute_input": "2023-09-21T21:37:35.257568Z",
     "iopub.status.busy": "2023-09-21T21:37:35.257130Z",
     "iopub.status.idle": "2023-09-21T21:37:47.541583Z",
     "shell.execute_reply": "2023-09-21T21:37:47.540861Z"
    }
   },
   "outputs": [
    {
     "name": "stdout",
     "output_type": "stream",
     "text": [
      "[('kN91vAk/cntIE4qOgH6b06ZWInymLuAez37ZA5gv+WfT8CCewv+MDGk1WrI8+25uM+UN1TvXBj+Tl5uQoNvZ7g==', 3904), ('/XIhfEKO27ngFqiOWS5VBLbRGEp8eqMghGEcRtH7xFfwtXRZLw5nwqXSFxU8Ez7u4EM2pc/WCuIQ07Okki1Vew==', 2902), ('bRwFe1qJhazPc7ur8S6hK8U0J0iPFVap53hfqoo9lxMebVE7a+ipl2x8FUkL3oRtUjW+0JImeTYb2XQAEq5rjw==', 2745), ('gAjvJgodeKO2IW3LVwzZxY4rwMxySmHtCuXAlVGVRD0ZPwNdETJ+S+ut7/1FR0IiF35MmZRGp8PZPgDr6D8pFw==', 2286), ('ay5U7RmL4QAj/p06ODdMbVh7lc1LqvfZHMFaU6BNIzcIVD1QSn1gerRGhCtGMqewNZKwpcF/LyWn61YF2r3ZDQ==', 2058), ('UJgZrjNi8XJ9UBsHPJTeU9xqeVB59ccxGwfcyx0gANwQWmkLSG9eeYV+UXZWB+tErQ9xQVIQRdrCLstfRrs6tQ==', 1980), ('oCgWHk6Cfsa52vAOJBPqBDyKN+OH3Obx0/bXBShVJD/ADN371LAMW/oqwegoh7Hec1psCxzg39QbtRKnL4M3NA==', 1756), ('nNbAayT6hRtQHFin/VWfeq4H6iJ/lHOnjfrHSFeIeRxvt3z5YkRHvtp3Q0VO3F6uRny9mDHcjiCYGJ1KJQ6BNg==', 1694), ('WCnhKn9Z11VwjSWd7kOUrX3MWOLhEyaF4FUK0Dxu+DieIWLcVMlKYqU80Clhu0iMpQecugmUzYonfun3RGtQIw==', 1570), ('/YNNvIErSA5atGXTER7fymCxIY/9xvunlE0Kisx+Cbppoi6szjAkwAeHn2cSLimDx6c8/W/4YKYoSr0fKZXBFw==', 1543)]\n",
      "User #1 , Num Pixels:  ('kN91vAk/cntIE4qOgH6b06ZWInymLuAez37ZA5gv+WfT8CCewv+MDGk1WrI8+25uM+UN1TvXBj+Tl5uQoNvZ7g==', 3904)\n",
      "User #2 , Num Pixels:  ('/XIhfEKO27ngFqiOWS5VBLbRGEp8eqMghGEcRtH7xFfwtXRZLw5nwqXSFxU8Ez7u4EM2pc/WCuIQ07Okki1Vew==', 2902)\n",
      "User #3 , Num Pixels:  ('bRwFe1qJhazPc7ur8S6hK8U0J0iPFVap53hfqoo9lxMebVE7a+ipl2x8FUkL3oRtUjW+0JImeTYb2XQAEq5rjw==', 2745)\n",
      "User #4 , Num Pixels:  ('gAjvJgodeKO2IW3LVwzZxY4rwMxySmHtCuXAlVGVRD0ZPwNdETJ+S+ut7/1FR0IiF35MmZRGp8PZPgDr6D8pFw==', 2286)\n",
      "User #5 , Num Pixels:  ('ay5U7RmL4QAj/p06ODdMbVh7lc1LqvfZHMFaU6BNIzcIVD1QSn1gerRGhCtGMqewNZKwpcF/LyWn61YF2r3ZDQ==', 2058)\n",
      "User #6 , Num Pixels:  ('UJgZrjNi8XJ9UBsHPJTeU9xqeVB59ccxGwfcyx0gANwQWmkLSG9eeYV+UXZWB+tErQ9xQVIQRdrCLstfRrs6tQ==', 1980)\n",
      "User #7 , Num Pixels:  ('oCgWHk6Cfsa52vAOJBPqBDyKN+OH3Obx0/bXBShVJD/ADN371LAMW/oqwegoh7Hec1psCxzg39QbtRKnL4M3NA==', 1756)\n",
      "User #8 , Num Pixels:  ('nNbAayT6hRtQHFin/VWfeq4H6iJ/lHOnjfrHSFeIeRxvt3z5YkRHvtp3Q0VO3F6uRny9mDHcjiCYGJ1KJQ6BNg==', 1694)\n",
      "User #9 , Num Pixels:  ('WCnhKn9Z11VwjSWd7kOUrX3MWOLhEyaF4FUK0Dxu+DieIWLcVMlKYqU80Clhu0iMpQecugmUzYonfun3RGtQIw==', 1570)\n",
      "User #10 , Num Pixels:  ('/YNNvIErSA5atGXTER7fymCxIY/9xvunlE0Kisx+Cbppoi6szjAkwAeHn2cSLimDx6c8/W/4YKYoSr0fKZXBFw==', 1543)\n"
     ]
    }
   ],
   "source": [
    "sorted_up_user = sorted(user_pixel.items(), key=operator.itemgetter(1), reverse=True)\n",
    "print(sorted_up_user[:10])\n",
    "#Top-10\n",
    "for i in range(10):\n",
    "    proj = sorted_up_user[i]\n",
    "    up = sorted_up_user[i]\n",
    "\n",
    "    print(\"User #\" + str(i + 1), \", Num Pixels: \", up)"
   ]
  },
  {
   "cell_type": "markdown",
   "id": "76d412d2",
   "metadata": {},
   "source": [
    "# Max Number of users contributing to one Image"
   ]
  },
  {
   "cell_type": "code",
   "execution_count": 9,
   "id": "a6e49b6c",
   "metadata": {
    "execution": {
     "iopub.execute_input": "2023-09-21T21:37:47.558678Z",
     "iopub.status.busy": "2023-09-21T21:37:47.558040Z",
     "iopub.status.idle": "2023-09-21T21:52:53.568541Z",
     "shell.execute_reply": "2023-09-21T21:52:53.566713Z"
    }
   },
   "outputs": [],
   "source": [
    "# Users per Project\n",
    "#Only updates that aggree with the final color of the tile are considered\n",
    "users_per_proj = users_per_project(input_file_proj_22, projects_to_remove)   "
   ]
  },
  {
   "cell_type": "code",
   "execution_count": 10,
   "id": "c07484a5",
   "metadata": {
    "execution": {
     "iopub.execute_input": "2023-09-21T21:52:53.578822Z",
     "iopub.status.busy": "2023-09-21T21:52:53.578334Z",
     "iopub.status.idle": "2023-09-21T21:52:53.606779Z",
     "shell.execute_reply": "2023-09-21T21:52:53.606354Z"
    }
   },
   "outputs": [
    {
     "name": "stdout",
     "output_type": "stream",
     "text": [
      "# 0 , project:  Flag of France , users:  1068986 , \n",
      "desc:  France is a country in Western Europe.\n",
      "\n",
      "This very large flag of France was made by the French Twitch sphere of streamers and their communities.\n",
      "\n",
      "After battling against Spanish streamer Ibai for hours in the bottom-left corner of r/place (before the third space was opened), The French streamers, led by streamer and esports leader Kamet0, migrated to the newly opened blank space in the bottom left of the third space. The original area extended over the One Piece area to the north, but the French were happy to offer up the space to r/OnePiece during the final day, and even helped them build their art.\n",
      "\n",
      "After the French streamers started putting down roots in the bottom left, building a huge French flag and a poorly-drawn Eiffel Tower, a coalition comprised of Spanish and North American streamers (Ibai, Rubius, xQc, Mizkif) started attacking them relentlessly, even overtaking a huge chunk of the north area to draw a huge kid + \"RATIO\". The French Twitch community valiantly rallied and succeeded in retaking the north area; they then resisted until very late into the night, but their numbers ended up dwindling dangerously as people left to sleep.\n",
      "\n",
      "While the late night/early morning crew did their best (French streamers relayed each other around the clock), The Eiffel Tower was completely dismantled and the flag almost entirely disappeared under the onslaught. North American streamer xQc then led an initiative to draw a gigantic version of 2B's ass (a Nier: Automata character). Work was well underway when Reddit moderation intervened to black out the ass several times.\n",
      "\n",
      "As people in France woke up, The early morning French streamers and their community, along with r/placefrance, were able to slowly clean up and retake most of the area. They first focused on redoing the flag, Then added the Arc de Triomphe model on the bottom (which ended up promptly taken over by a legion of Among Us crewmates); the Zidane face, croissant and dofus eggs came next. As more and more people woke up on the French side, French streamers congregated and debated over what other art to add. Some art that was drawn but didn't end up making the cut: Rayman (on the right of the Arc de Triomphe), a carte vitale (national health card), and Mr. Mime (around where Remy from Ratatouille is).\n",
      "\n",
      "The French Twitch community resisted against a number of assaults during the day, notably on Zidane's face and the Arc de Triomphe. Bangtan Sonyeondan fans also tried to plaster the logo in the upper half, without success. The French steadily kept defending and building numerous new piece of arts such as the Louvre, Jinx, Lofi Girl, Remy, etc. until the late afternoon to evening, when the Spanish streamers came back in force to try and destroy their work once more. They again allied with North American streamers such as xQc and Erobb, drawing a huge BTS logo where Zidane's face was.\n",
      "\n",
      "The French streamers once again rallied all together (there were more than 600k viewers on French streams, 400k of them following the \"French general\" Kamet0) to defend and rebuild, along with smaller communities which helped from the shadows such as r/OnePiece. The French Twitch community decided to focus their defense efforts on the flag itself, Thinking that it was easier than trying to rebuild all art at the same time, which meant that while only Thomas Pesquet and the Arc de Triomphe were mostly left standing at the end, The French flag was still there and going strong at the end or r/place.\n",
      "\n",
      "In the end, The French area, which was focused by hundreds of thousands by people, ended up being the first one to disappear; when French streamers understood that the great white-out had come, They then rallied to try and write \"FR\" or \"FRA\" in white on the canvas. \n",
      "\n",
      "# 1 , project:  Bangtan Sonyeondan , users:  657381 , \n",
      "desc:  During the Spanish and French war of r/place (2022), a popular Spanish streamer fighting for space on France's flag promised BTS ARMYs, The fandom for K-pop boy group BTS, That he was a fan and would stream BTS's Butter music video until it hit 1 billion views if they helped him take up space on the French flag. The BTS logo, which depicts opening doors, resulted, and the Spanish streamer kept it in place, despite the French giving BTS fans a spot elsewhere, which was later destroyed by the Spanish. \n",
      "\n",
      "# 2 , project:  Flag of Turkey , users:  601349 , \n",
      "desc:  Turkey is a country in Southeastern Europe and Western Asia. The national flag of Turkey, officially the Turkish flag (Turkish: Türk bayrağı), is a red flag featuring a white star and crescent.\n",
      "\n",
      "This Turkish flag has a silhouette of Istanbul, the largest city in Turkey, in its background. In the center is Anıtkabir, a monument in Ankara (the Turkish capital) that houses the mausoleum of Mustafa Kemal Atatürk, the founder and the first president of Republic of Turkey.\n",
      "\n",
      "This area was hotly contested throughout the entirety of r/place, with the flag overtaken and rebuilt many times. \n",
      "\n",
      "# 3 , project:  2B butt , users:  601310 , \n",
      "desc:  During an incursion into the French-controlled corner. North American Twitch streamers xQc and Mizkif deployed their communities to construct a gigantic tribute to the android booty of 2B from Nier: Automata. During the construction of this effigy, Reddit admins censored the image using a gigantic black box. Not deterred, The community again built the effigy to once again be censored by Reddit admins. During construction many members of both North American communities received 15-year bans on placing pixels. Up to 20 percent of Mizkif's 80,000 live viewers were banned during this attack. \n",
      "\n",
      "# 4 , project:  Transgender flag , users:  290770 , \n",
      "desc:  A pride flag representing the transgender community. Transgender people have a gender identity different from their sex assigned at birth.\n",
      "\n",
      "This flag is emblazoned with a variety of pixel arts related to the trans and LGBT communities. \n",
      "\n",
      "# 5 , project:  Mustafa Kemal Atatürk , users:  288144 , \n",
      "desc:  The founder and first president of the Republic of Turkey. \n",
      "\n",
      "# 6 , project:  Canada , users:  255560 , \n",
      "desc:  Canada is a country in North America.\n",
      "\n",
      "The bottom area contains the flag of Canada and the Every Child Matters movement.\n",
      "\n",
      "The top area hosts an array of flags representing the ten provinces and three territories of Canada, plus the Métis flag. The placement of the flags is roughly based on their geographical location from west to east.\n",
      "\n",
      "The \"Canada\" text was often vandalized to say \"Banana\". The top area used to contain a second Canadian flag, but this was also turned into a banana and then destroyed. \n",
      "\n",
      "# 7 , project:  Nordic Union , users:  245528 , \n",
      "desc:  A collection of countries in northern Europe, including Denmark, Finland, Iceland, Norway, and Sweden. \n",
      "\n",
      "# 8 , project:  KOI , users:  219962 , \n",
      "desc:  KOI is a Spanish content creator and esports team owned by the esports2021 and Esland2021 Streamer of the Year IBAI and FCBarcelona football player Jerard Piqué.\n",
      "\n",
      "This art was destroyed by French users. \n",
      "\n",
      "# 9 , project:  Crying baby , users:  218866 , \n",
      "desc:  This crying baby was created by French streamers community as a mockery of the Spanish-speaking community during the French-Spanish pixel war. The creation lasted a couple of minutes before being abandoned and given away to other communities. \n",
      "\n"
     ]
    }
   ],
   "source": [
    "sorted_users_per_proj = sorted(users_per_proj.items(), key=operator.itemgetter(1), reverse=True)\n",
    "\n",
    "#Top-10\n",
    "for i in range(10):\n",
    "    proj = sorted_users_per_proj[i][0]\n",
    "    n = sorted_users_per_proj[i][1]\n",
    "    name = names_22[str(proj)]\n",
    "    desc = descriptions_22[str(proj)]\n",
    "    \n",
    "    print(\"#\", i, \", project: \", name, \", users: \", n, \", \\ndesc: \", desc, \"\\n\")"
   ]
  },
  {
   "cell_type": "code",
   "execution_count": 11,
   "id": "1597adb2",
   "metadata": {
    "execution": {
     "iopub.execute_input": "2023-09-21T21:52:53.611117Z",
     "iopub.status.busy": "2023-09-21T21:52:53.610892Z",
     "iopub.status.idle": "2023-09-21T22:22:49.481142Z",
     "shell.execute_reply": "2023-09-21T22:22:49.479532Z"
    }
   },
   "outputs": [],
   "source": [
    "# Users per Project\n",
    "#Only updates that aggree with the final color of the tile are considered\n",
    "users_per_proj = users_per_project(input_file_proj_23, projects_to_remove)   "
   ]
  },
  {
   "cell_type": "code",
   "execution_count": 12,
   "id": "dbafdb7a",
   "metadata": {
    "execution": {
     "iopub.execute_input": "2023-09-21T22:22:49.490184Z",
     "iopub.status.busy": "2023-09-21T22:22:49.489630Z",
     "iopub.status.idle": "2023-09-21T22:22:49.521316Z",
     "shell.execute_reply": "2023-09-21T22:22:49.520826Z"
    }
   },
   "outputs": [
    {
     "name": "stdout",
     "output_type": "stream",
     "text": [
      "# 0 , project:  Fuck Spez! , users:  4777294 , \n",
      "desc:  u/spez, real name Steve Huffman, is the CEO of Reddit. This \"Fuck Spez\" message was written in protest of the recent pricing changes to the Reddit API that have killed off many third-party Reddit apps, along with Spez's controversial responses to user outcry.\n",
      "\n",
      "The phrase \"Fuck Spez\" appearing prominently at the end of the r/place edition, just minutes before the canvas was terminated, represents a last-minute, collaborative effort by multiple communities.\n",
      "\n",
      "Despite the haste in its preparation, the phrase's appearance on the canvas attests to the power of collective action within the r/place event. Different communities came together in a swift and coordinated effort to make a statement - a testament to the bonds formed and the spirit of unity shared amongst Reddit users during this unique digital event. \n",
      "\n",
      "# 1 , project:  SPZ , users:  4699138 , \n",
      "desc:  At the end of the whiteout began on r/place the communitys unite to write FUCK SPEZ in capital letters. \n",
      "\n",
      "# 2 , project:  FUCK SPEZ Whiteout , users:  4076171 , \n",
      "desc:  The reddit community united to create a giant FUCK SPEZ sign once the canvas went grayscale.\n",
      "\n",
      "Like other instances of \"Fuck Spez\" on r/place, this message was written in protest of the recent pricing changes to the Reddit API that have killed off many third-party Reddit apps, along with Reddit CEO Steve Hoffman's (Reddit username u/spez) controversial responses to user outcry. \n",
      "\n",
      "# 3 , project:  Fuck Spez , users:  440082 , \n",
      "desc:  Fuck Spez is a protest to the change of API \n",
      "\n",
      "# 4 , project:  Griefing of the Turkish flag , users:  439143 , \n",
      "desc:  After a pixel fight between xQc, Papaplatte, Mizkif and Stegi, they all teamed up to grief the turkish flag into representing Spongebob characters and a banana. \n",
      "\n",
      "# 5 , project:  Flag of France , users:  436310 , \n",
      "desc:  France is a country in Western Europe. \n",
      "\n",
      "# 6 , project:  Flag of Turkey , users:  436283 , \n",
      "desc:  Turkey is a country in Southeastern Europe and Western Asia. The national flag of Turkey, officially the Turkish flag (Turkish: Türk bayrağı), is a red flag featuring a white star and crescent.\n",
      "Pattern at the back represents map of Turkiye and famous Turkish rug \"kilim\" patterns. \n",
      "\n",
      "# 7 , project:  Flag of Germany (Hauptflagge) , users:  435211 , \n",
      "desc:  Germany is a country in Central Europe. \n",
      "\n",
      "# 8 , project:  :V , users:  433786 , \n",
      "desc:  A Pacman made by the community of Bananirou, Latesito and Rodny. Made during the early morning with the aim of conquering Turkey. Ultimately Failed. \n",
      "\n",
      "# 9 , project:  FUC(K SPEZ) , users:  413215 , \n",
      "desc:  u/spez, real name Steve Huffman, is the CEO of Reddit. This \"Fuck Spez\" message was written in protest of the recent pricing changes to the Reddit API that have killed off many third-party Reddit apps, along with Spez's controversial responses to user outcry.\n",
      "\n",
      "The phrase \"Fuck Spez\" (ID: 3158) appearing prominently at the end of the r/place edition, just minutes before the canvas was terminated, represents a last-minute, collaborative effort by multiple communities.\n",
      "\n",
      "Despite the haste in its preparation, the phrase's appearance on the canvas attests to the power of collective action within the r/place event. Different communities came together in a swift and coordinated effort to make a statement - a testament to the bonds formed and the spirit of unity shared amongst Reddit users during this unique digital event. \n",
      "\n"
     ]
    }
   ],
   "source": [
    "sorted_users_per_proj = sorted(users_per_proj.items(), key=operator.itemgetter(1), reverse=True)\n",
    "\n",
    "#Top-10\n",
    "for i in range(10):\n",
    "    proj = sorted_users_per_proj[i][0]\n",
    "    n = sorted_users_per_proj[i][1]\n",
    "    name = names_23[str(proj)]\n",
    "    desc = descriptions_23[str(proj)]\n",
    "    \n",
    "    print(\"#\", i, \", project: \", name, \", users: \", n, \", \\ndesc: \", desc, \"\\n\")"
   ]
  }
 ],
 "metadata": {
  "kernelspec": {
   "display_name": "Python 3 (ipykernel)",
   "language": "python",
   "name": "python3"
  },
  "language_info": {
   "codemirror_mode": {
    "name": "ipython",
    "version": 3
   },
   "file_extension": ".py",
   "mimetype": "text/x-python",
   "name": "python",
   "nbconvert_exporter": "python",
   "pygments_lexer": "ipython3",
   "version": "3.11.4"
  }
 },
 "nbformat": 4,
 "nbformat_minor": 5
}
