{
 "cells": [
  {
   "cell_type": "code",
   "execution_count": 5,
   "id": "cd17a4da",
   "metadata": {
    "execution": {
     "iopub.execute_input": "2023-09-18T05:11:05.305844Z",
     "iopub.status.busy": "2023-09-18T05:11:05.305344Z",
     "iopub.status.idle": "2023-09-18T05:11:10.483101Z",
     "shell.execute_reply": "2023-09-18T05:11:10.482131Z"
    }
   },
   "outputs": [],
   "source": [
    "#import basic libraries\n",
    "\n",
    "import csv\n",
    "import sys\n",
    "import os\n",
    "import math\n",
    "import numpy as np\n",
    "import numpy.linalg as npla\n",
    "import scipy\n",
    "from scipy import sparse\n",
    "from scipy import linalg\n",
    "import scipy.sparse.linalg as spla\n",
    "import matplotlib.pyplot as plt\n",
    "from matplotlib import cm\n",
    "import matplotlib.mlab as mlab\n",
    "from mpl_toolkits.mplot3d import axes3d\n",
    "#%matplotlib tk\n",
    "import operator\n",
    "sys.path.append(\"../Python_code\") # go to parent dir\n",
    "from reddit import *\n",
    "from analytics_combined import *\n",
    "import pandas as pd"
   ]
  },
  {
   "cell_type": "code",
   "execution_count": 6,
   "id": "e4e12a62",
   "metadata": {
    "execution": {
     "iopub.execute_input": "2023-09-18T05:11:10.487301Z",
     "iopub.status.busy": "2023-09-18T05:11:10.486711Z",
     "iopub.status.idle": "2023-09-18T05:11:13.566015Z",
     "shell.execute_reply": "2023-09-18T05:11:13.565226Z"
    }
   },
   "outputs": [],
   "source": [
    "import sys\n",
    "sys.path.append(\"../Python_code\") # go to parent dir\n",
    "from reddit import *\n",
    "from canvas_vis import *\n",
    "from project_data_analysis import *\n",
    "from generate_proj_to_remove import *"
   ]
  },
  {
   "cell_type": "code",
   "execution_count": 7,
   "id": "9f42bb09",
   "metadata": {
    "execution": {
     "iopub.execute_input": "2023-09-18T05:11:13.569817Z",
     "iopub.status.busy": "2023-09-18T05:11:13.569227Z",
     "iopub.status.idle": "2023-09-18T05:11:17.336916Z",
     "shell.execute_reply": "2023-09-18T05:11:17.335681Z"
    }
   },
   "outputs": [],
   "source": [
    "#Run this before anything else!\n",
    "\n",
    "input_file_proj_22 = \"../data_2022/tile_placements_before_whiteout.csv\"\n",
    "input_file_proj_23 = \"../data_2023/tile_placements_before_whiteout.csv\"\n",
    "#input_file_proj_den_freq = \"../data/sorted_tile_placements_proj_den_freq.csv\"\n",
    "#input_file_proj_den_users = \"../data/sorted_tile_placements_proj_den_users.csv\"\n",
    "\n",
    "\n",
    "# js_filename = \"../data/atlas.json\"\n",
    "js_filename = \"../data_2022/atlas/atlas.json\"\n",
    "\n",
    "locations = store_locations_22(js_filename)\n",
    "\n",
    "names, descriptions = read_picture_names_and_descriptions(js_filename)"
   ]
  },
  {
   "cell_type": "markdown",
   "id": "8d0c0545",
   "metadata": {},
   "source": [
    "# Generate Table Data"
   ]
  },
  {
   "cell_type": "code",
   "execution_count": 4,
   "id": "6af1e89d",
   "metadata": {
    "execution": {
     "iopub.execute_input": "2023-09-18T05:11:17.342416Z",
     "iopub.status.busy": "2023-09-18T05:11:17.341921Z",
     "iopub.status.idle": "2023-09-18T05:11:17.961741Z",
     "shell.execute_reply": "2023-09-18T05:11:17.960910Z"
    }
   },
   "outputs": [
    {
     "name": "stdout",
     "output_type": "stream",
     "text": [
      "\u001b[0;39m10885\u001b[0m\r\n"
     ]
    }
   ],
   "source": [
    "# Number of projects for 2022\n",
    "!jq length ../data_2022/atlas/atlas.json"
   ]
  },
  {
   "cell_type": "code",
   "execution_count": 5,
   "id": "5dbf9aad",
   "metadata": {
    "execution": {
     "iopub.execute_input": "2023-09-18T05:11:17.965441Z",
     "iopub.status.busy": "2023-09-18T05:11:17.965062Z",
     "iopub.status.idle": "2023-09-18T05:11:18.405246Z",
     "shell.execute_reply": "2023-09-18T05:11:18.403817Z"
    }
   },
   "outputs": [
    {
     "name": "stdout",
     "output_type": "stream",
     "text": [
      "\u001b[0;39m6244\u001b[0m\r\n"
     ]
    }
   ],
   "source": [
    "# Number of projects for 2023\n",
    "!jq length ../data_2023/atlas/atlas.json"
   ]
  },
  {
   "cell_type": "code",
   "execution_count": 6,
   "id": "cb1cc998",
   "metadata": {
    "execution": {
     "iopub.execute_input": "2023-09-18T05:11:18.411411Z",
     "iopub.status.busy": "2023-09-18T05:11:18.410653Z",
     "iopub.status.idle": "2023-09-18T05:11:32.527736Z",
     "shell.execute_reply": "2023-09-18T05:11:32.526845Z"
    }
   },
   "outputs": [
    {
     "name": "stdout",
     "output_type": "stream",
     "text": [
      "149560840 ../data_2022/tile_placements_before_whiteout.csv\r\n"
     ]
    }
   ],
   "source": [
    "# Number of Updates 2022\n",
    "!wc -l ../data_2022/tile_placements_before_whiteout.csv"
   ]
  },
  {
   "cell_type": "code",
   "execution_count": 7,
   "id": "3148d3fe",
   "metadata": {
    "execution": {
     "iopub.execute_input": "2023-09-18T05:11:32.531450Z",
     "iopub.status.busy": "2023-09-18T05:11:32.531068Z",
     "iopub.status.idle": "2023-09-18T05:11:44.600181Z",
     "shell.execute_reply": "2023-09-18T05:11:44.598565Z"
    }
   },
   "outputs": [
    {
     "name": "stdout",
     "output_type": "stream",
     "text": [
      "122719797 ../data_2023/tile_placements_before_whiteout.csv\r\n"
     ]
    }
   ],
   "source": [
    "# Number of UPdates 2023\n",
    "!wc -l ../data_2023/tile_placements_before_whiteout.csv"
   ]
  },
  {
   "cell_type": "code",
   "execution_count": 8,
   "id": "da2d0bc7",
   "metadata": {
    "execution": {
     "iopub.execute_input": "2023-09-18T05:11:44.611001Z",
     "iopub.status.busy": "2023-09-18T05:11:44.609637Z",
     "iopub.status.idle": "2023-09-18T05:23:42.215991Z",
     "shell.execute_reply": "2023-09-18T05:23:42.199566Z"
    }
   },
   "outputs": [
    {
     "name": "stdout",
     "output_type": "stream",
     "text": [
      "10047708\r\n"
     ]
    }
   ],
   "source": [
    "# Number of users 2022\n",
    "!awk -F, '!seen[$2]++{c++} END{print c}' ../data_2022/tile_placements_before_whiteout.csv"
   ]
  },
  {
   "cell_type": "code",
   "execution_count": 9,
   "id": "cbc6dbd5",
   "metadata": {
    "execution": {
     "iopub.execute_input": "2023-09-18T05:23:42.272069Z",
     "iopub.status.busy": "2023-09-18T05:23:42.268543Z",
     "iopub.status.idle": "2023-09-18T05:36:11.198239Z",
     "shell.execute_reply": "2023-09-18T05:36:11.181644Z"
    }
   },
   "outputs": [
    {
     "name": "stdout",
     "output_type": "stream",
     "text": [
      "8379414\r\n"
     ]
    }
   ],
   "source": [
    "# Number of users 2023\n",
    "!awk -F, '!seen[$2]++{c++} END{print c}' ../data_2023/tile_placements_before_whiteout.csv"
   ]
  },
  {
   "cell_type": "markdown",
   "id": "6d672d1e",
   "metadata": {},
   "source": [
    "# Updates Per User"
   ]
  },
  {
   "cell_type": "code",
   "execution_count": 10,
   "id": "6518e7de",
   "metadata": {
    "execution": {
     "iopub.execute_input": "2023-09-18T05:36:11.255944Z",
     "iopub.status.busy": "2023-09-18T05:36:11.253551Z",
     "iopub.status.idle": "2023-09-18T05:45:30.772022Z",
     "shell.execute_reply": "2023-09-18T05:45:30.753823Z"
    }
   },
   "outputs": [
    {
     "name": "stdout",
     "output_type": "stream",
     "text": [
      "total updates: 149560839\n"
     ]
    }
   ],
   "source": [
    "# Compute the updates per user\n",
    "updates_user, total_updates = updates_per_user(input_file_proj_22)\n",
    "print(\"total updates:\", total_updates)"
   ]
  },
  {
   "cell_type": "code",
   "execution_count": 11,
   "id": "68a73630",
   "metadata": {
    "execution": {
     "iopub.execute_input": "2023-09-18T05:45:30.985447Z",
     "iopub.status.busy": "2023-09-18T05:45:30.981409Z",
     "iopub.status.idle": "2023-09-18T05:45:34.927275Z",
     "shell.execute_reply": "2023-09-18T05:45:34.926696Z"
    }
   },
   "outputs": [
    {
     "name": "stdout",
     "output_type": "stream",
     "text": [
      "[('kgZoJz//JpfXgowLxOhcQlFYOCm8m6upa6Rpltcc63K6Cz0vEWJF/RYmlsaXsIQEbXrwz+Il3BkD8XZVx7YMLQ==', 771), ('LNbGhj45pAeCvBYQF1dPvwx1zVfVTy8AdRxTSHi0pR9YeabE3sAd3Rz1MbLFT5k14j0+grrVgqYO1/6BA/jBfQ==', 761), ('JMlte6XKe+nnFvxcjT0hHDYYNgiDXZVOkhr6KT60EtJAGaezxc4e/eah6JzTReWNdTH4fLueQ20A4drmfqbqsw==', 760), ('K54RRTUCFuOU55RzSTkjo/ftbJqVi9miyt52YV6NlENRfUyJTPJKBC47N/s2eh4iNdAKMKxa3gvL2XFqCc9AqQ==', 755), ('6QK00igvPdzUYm9SEriCDTbwTmM3RcY17Ynr9FRA6PfLKMUNur4cedRmY9wX4vL6bBoV/JW/Gn6TRRZAJimeLw==', 753), ('DspItMbX4x7ZD/Ozqke3BL3IQs40A3suoSQ8mb5V7Nu8Z1nYWWzGaFSj7UtRC0W75P7JfJ3W+4ne36EiBuo2YQ==', 751), ('VenbgVzRUq0U7MX3agINB3qBtjbEkZh8HmPSQHnkhkTwy/w5C6jodImdPn6bM8izTHI66HK17D4Bom33ZrwuGQ==', 748), ('8USqGo14WuZQLG7PSAwqfFwICkU0G4VyHZTuV8D1QSbQHE5GFdC2mIK/pMEC/qF1FQH912SDim3ptEFkYPrYMQ==', 741), ('jjtKU98x1Bc/qYVoVBq/gQd6yaFiaTrb2vT6fp+Ias+PeaHE9vWC4g7p2KJKLBdjKvo+699EgRouCbeFjWsjKA==', 714), ('VHg2OiSkbBCDTTl1W41fdvDSJk/QtKsdsufSZomBPV3cr2K8+0RW4ILyT1Bmot0bU3bOJyHRPW/w60Y5so4F1g==', 701)]\n",
      "User #1 , Num Updates:  ('kgZoJz//JpfXgowLxOhcQlFYOCm8m6upa6Rpltcc63K6Cz0vEWJF/RYmlsaXsIQEbXrwz+Il3BkD8XZVx7YMLQ==', 771)\n",
      "User #2 , Num Updates:  ('LNbGhj45pAeCvBYQF1dPvwx1zVfVTy8AdRxTSHi0pR9YeabE3sAd3Rz1MbLFT5k14j0+grrVgqYO1/6BA/jBfQ==', 761)\n",
      "User #3 , Num Updates:  ('JMlte6XKe+nnFvxcjT0hHDYYNgiDXZVOkhr6KT60EtJAGaezxc4e/eah6JzTReWNdTH4fLueQ20A4drmfqbqsw==', 760)\n",
      "User #4 , Num Updates:  ('K54RRTUCFuOU55RzSTkjo/ftbJqVi9miyt52YV6NlENRfUyJTPJKBC47N/s2eh4iNdAKMKxa3gvL2XFqCc9AqQ==', 755)\n",
      "User #5 , Num Updates:  ('6QK00igvPdzUYm9SEriCDTbwTmM3RcY17Ynr9FRA6PfLKMUNur4cedRmY9wX4vL6bBoV/JW/Gn6TRRZAJimeLw==', 753)\n",
      "User #6 , Num Updates:  ('DspItMbX4x7ZD/Ozqke3BL3IQs40A3suoSQ8mb5V7Nu8Z1nYWWzGaFSj7UtRC0W75P7JfJ3W+4ne36EiBuo2YQ==', 751)\n",
      "User #7 , Num Updates:  ('VenbgVzRUq0U7MX3agINB3qBtjbEkZh8HmPSQHnkhkTwy/w5C6jodImdPn6bM8izTHI66HK17D4Bom33ZrwuGQ==', 748)\n",
      "User #8 , Num Updates:  ('8USqGo14WuZQLG7PSAwqfFwICkU0G4VyHZTuV8D1QSbQHE5GFdC2mIK/pMEC/qF1FQH912SDim3ptEFkYPrYMQ==', 741)\n",
      "User #9 , Num Updates:  ('jjtKU98x1Bc/qYVoVBq/gQd6yaFiaTrb2vT6fp+Ias+PeaHE9vWC4g7p2KJKLBdjKvo+699EgRouCbeFjWsjKA==', 714)\n",
      "User #10 , Num Updates:  ('VHg2OiSkbBCDTTl1W41fdvDSJk/QtKsdsufSZomBPV3cr2K8+0RW4ILyT1Bmot0bU3bOJyHRPW/w60Y5so4F1g==', 701)\n"
     ]
    }
   ],
   "source": [
    "sorted_up_user = sorted(updates_user.items(), key=operator.itemgetter(1), reverse=True)\n",
    "print(sorted_up_user[:10])\n",
    "#Top-10\n",
    "for i in range(10):\n",
    "    proj = sorted_up_user[i]\n",
    "    up = sorted_up_user[i]\n",
    "\n",
    "    print(\"User #\" + str(i + 1), \", Num Updates: \", up)"
   ]
  },
  {
   "cell_type": "code",
   "execution_count": 12,
   "id": "639c4390",
   "metadata": {
    "execution": {
     "iopub.execute_input": "2023-09-18T05:45:34.932983Z",
     "iopub.status.busy": "2023-09-18T05:45:34.932713Z",
     "iopub.status.idle": "2023-09-18T05:45:37.142951Z",
     "shell.execute_reply": "2023-09-18T05:45:37.142171Z"
    }
   },
   "outputs": [
    {
     "name": "stdout",
     "output_type": "stream",
     "text": [
      "AVG =  14.885071688495694\n"
     ]
    }
   ],
   "source": [
    "# AVG\n",
    "print(\"AVG = \", np.mean(np.array(list(updates_user.values()))))"
   ]
  },
  {
   "cell_type": "code",
   "execution_count": 13,
   "id": "9e147e6c",
   "metadata": {
    "execution": {
     "iopub.execute_input": "2023-09-18T05:45:37.149597Z",
     "iopub.status.busy": "2023-09-18T05:45:37.149229Z",
     "iopub.status.idle": "2023-09-18T05:45:46.696316Z",
     "shell.execute_reply": "2023-09-18T05:45:46.695250Z"
    }
   },
   "outputs": [
    {
     "data": {
      "image/png": "[encoded data removed]",
      "text/plain": [
       "<Figure size 640x480 with 1 Axes>"
      ]
     },
     "metadata": {},
     "output_type": "display_data"
    }
   ],
   "source": [
    "#Inverse cumulative density funcition\n",
    "\n",
    "def plot_updates_per_user_icdf(count, output_file_name):\n",
    "    plt.clf()\n",
    "    ax = plt.subplot(111)\n",
    "    ax.loglog(range(len(count)), count, color=\"red\", linewidth=4)\n",
    "    ax.set_ylabel('ICDF', fontsize=30)\n",
    "    ax.set_xlabel('#updates', fontsize=30)\n",
    "    ax.tick_params(labelsize=20)\n",
    "    ax.set_xlim(1,10000)\n",
    "    plt.savefig(output_file_name, dpi=300, bbox_inches='tight')\n",
    "    \n",
    "#Computing ICDF\n",
    "count = icdf(updates_user)\n",
    "    \n",
    "plot_updates_per_user_icdf(count, \"../plots/plot_updates_per_user_icdf_22.svg\")"
   ]
  },
  {
   "cell_type": "code",
   "execution_count": 14,
   "id": "82d5b371",
   "metadata": {
    "execution": {
     "iopub.execute_input": "2023-09-18T05:45:46.711363Z",
     "iopub.status.busy": "2023-09-18T05:45:46.711003Z",
     "iopub.status.idle": "2023-09-18T05:53:01.512788Z",
     "shell.execute_reply": "2023-09-18T05:53:01.498461Z"
    }
   },
   "outputs": [
    {
     "name": "stdout",
     "output_type": "stream",
     "text": [
      "total updates: 122719796\n"
     ]
    }
   ],
   "source": [
    "# Compute the updates per user\n",
    "updates_user, total_updates = updates_per_user(input_file_proj_23)\n",
    "print(\"total updates:\", total_updates)"
   ]
  },
  {
   "cell_type": "code",
   "execution_count": 15,
   "id": "d9f7b72f",
   "metadata": {
    "execution": {
     "iopub.execute_input": "2023-09-18T05:53:01.649080Z",
     "iopub.status.busy": "2023-09-18T05:53:01.646262Z",
     "iopub.status.idle": "2023-09-18T05:53:20.552619Z",
     "shell.execute_reply": "2023-09-18T05:53:20.551621Z"
    }
   },
   "outputs": [
    {
     "name": "stdout",
     "output_type": "stream",
     "text": [
      "[('kN91vAk/cntIE4qOgH6b06ZWInymLuAez37ZA5gv+WfT8CCewv+MDGk1WrI8+25uM+UN1TvXBj+Tl5uQoNvZ7g==', 7504), ('oCgWHk6Cfsa52vAOJBPqBDyKN+OH3Obx0/bXBShVJD/ADN371LAMW/oqwegoh7Hec1psCxzg39QbtRKnL4M3NA==', 6224), ('/YNNvIErSA5atGXTER7fymCxIY/9xvunlE0Kisx+Cbppoi6szjAkwAeHn2cSLimDx6c8/W/4YKYoSr0fKZXBFw==', 4951), ('bRwFe1qJhazPc7ur8S6hK8U0J0iPFVap53hfqoo9lxMebVE7a+ipl2x8FUkL3oRtUjW+0JImeTYb2XQAEq5rjw==', 4510), ('ay5U7RmL4QAj/p06ODdMbVh7lc1LqvfZHMFaU6BNIzcIVD1QSn1gerRGhCtGMqewNZKwpcF/LyWn61YF2r3ZDQ==', 4390), ('tFRL97+0mluUiLf6lR3qQnp4pa/pXVBJ6VN0eXBdExFt0V9fPY8H5YDHp7HiGFCPp2WkONaXd0ippv87shGmcQ==', 4046), ('gAjvJgodeKO2IW3LVwzZxY4rwMxySmHtCuXAlVGVRD0ZPwNdETJ+S+ut7/1FR0IiF35MmZRGp8PZPgDr6D8pFw==', 3987), ('nNbAayT6hRtQHFin/VWfeq4H6iJ/lHOnjfrHSFeIeRxvt3z5YkRHvtp3Q0VO3F6uRny9mDHcjiCYGJ1KJQ6BNg==', 3620), ('/XIhfEKO27ngFqiOWS5VBLbRGEp8eqMghGEcRtH7xFfwtXRZLw5nwqXSFxU8Ez7u4EM2pc/WCuIQ07Okki1Vew==', 3379), ('YuV9dD2Bs8I1RVh5dXFoz9DPeY2s5eyKPp8qqR4lcBq8RM/u/DL7Mit+S7O6VX2KLK+DsF5zfYZgvISP/x2Hnw==', 3164)]\n",
      "User #1 , Num Updates:  ('kN91vAk/cntIE4qOgH6b06ZWInymLuAez37ZA5gv+WfT8CCewv+MDGk1WrI8+25uM+UN1TvXBj+Tl5uQoNvZ7g==', 7504)\n",
      "User #2 , Num Updates:  ('oCgWHk6Cfsa52vAOJBPqBDyKN+OH3Obx0/bXBShVJD/ADN371LAMW/oqwegoh7Hec1psCxzg39QbtRKnL4M3NA==', 6224)\n",
      "User #3 , Num Updates:  ('/YNNvIErSA5atGXTER7fymCxIY/9xvunlE0Kisx+Cbppoi6szjAkwAeHn2cSLimDx6c8/W/4YKYoSr0fKZXBFw==', 4951)\n",
      "User #4 , Num Updates:  ('bRwFe1qJhazPc7ur8S6hK8U0J0iPFVap53hfqoo9lxMebVE7a+ipl2x8FUkL3oRtUjW+0JImeTYb2XQAEq5rjw==', 4510)\n",
      "User #5 , Num Updates:  ('ay5U7RmL4QAj/p06ODdMbVh7lc1LqvfZHMFaU6BNIzcIVD1QSn1gerRGhCtGMqewNZKwpcF/LyWn61YF2r3ZDQ==', 4390)\n",
      "User #6 , Num Updates:  ('tFRL97+0mluUiLf6lR3qQnp4pa/pXVBJ6VN0eXBdExFt0V9fPY8H5YDHp7HiGFCPp2WkONaXd0ippv87shGmcQ==', 4046)\n",
      "User #7 , Num Updates:  ('gAjvJgodeKO2IW3LVwzZxY4rwMxySmHtCuXAlVGVRD0ZPwNdETJ+S+ut7/1FR0IiF35MmZRGp8PZPgDr6D8pFw==', 3987)\n",
      "User #8 , Num Updates:  ('nNbAayT6hRtQHFin/VWfeq4H6iJ/lHOnjfrHSFeIeRxvt3z5YkRHvtp3Q0VO3F6uRny9mDHcjiCYGJ1KJQ6BNg==', 3620)\n",
      "User #9 , Num Updates:  ('/XIhfEKO27ngFqiOWS5VBLbRGEp8eqMghGEcRtH7xFfwtXRZLw5nwqXSFxU8Ez7u4EM2pc/WCuIQ07Okki1Vew==', 3379)\n",
      "User #10 , Num Updates:  ('YuV9dD2Bs8I1RVh5dXFoz9DPeY2s5eyKPp8qqR4lcBq8RM/u/DL7Mit+S7O6VX2KLK+DsF5zfYZgvISP/x2Hnw==', 3164)\n"
     ]
    }
   ],
   "source": [
    "sorted_up_user = sorted(updates_user.items(), key=operator.itemgetter(1), reverse=True)\n",
    "print(sorted_up_user[:10])\n",
    "#Top-10\n",
    "for i in range(10):\n",
    "    proj = sorted_up_user[i]\n",
    "    up = sorted_up_user[i]\n",
    "\n",
    "    print(\"User #\" + str(i + 1), \", Num Updates: \", up)"
   ]
  },
  {
   "cell_type": "code",
   "execution_count": 14,
   "id": "300b53c9",
   "metadata": {},
   "outputs": [],
   "source": [
    "def count_user_update(input_file):\n",
    "    user_up = dict()\n",
    "    with open(input_file,'r') as file:\n",
    "        next(file,None)\n",
    "        reader = csv.reader(file)\n",
    "        for r in reader:\n",
    "            user = r[2]\n",
    "            if user in user_up:\n",
    "                user_up[user] += 1\n",
    "            else:\n",
    "                user_up[user] = 1\n",
    "    return user_up"
   ]
  },
  {
   "cell_type": "code",
   "execution_count": 15,
   "id": "af4097b1",
   "metadata": {},
   "outputs": [],
   "source": [
    "c = count_user_update('../data_2023/tile_placement.csv')"
   ]
  },
  {
   "cell_type": "code",
   "execution_count": 16,
   "id": "efc855b6",
   "metadata": {},
   "outputs": [
    {
     "name": "stdout",
     "output_type": "stream",
     "text": [
      "[('kN91vAk/cntIE4qOgH6b06ZWInymLuAez37ZA5gv+WfT8CCewv+MDGk1WrI8+25uM+UN1TvXBj+Tl5uQoNvZ7g==', 7504), ('oCgWHk6Cfsa52vAOJBPqBDyKN+OH3Obx0/bXBShVJD/ADN371LAMW/oqwegoh7Hec1psCxzg39QbtRKnL4M3NA==', 6285), ('/YNNvIErSA5atGXTER7fymCxIY/9xvunlE0Kisx+Cbppoi6szjAkwAeHn2cSLimDx6c8/W/4YKYoSr0fKZXBFw==', 5331), ('bRwFe1qJhazPc7ur8S6hK8U0J0iPFVap53hfqoo9lxMebVE7a+ipl2x8FUkL3oRtUjW+0JImeTYb2XQAEq5rjw==', 4510), ('ay5U7RmL4QAj/p06ODdMbVh7lc1LqvfZHMFaU6BNIzcIVD1QSn1gerRGhCtGMqewNZKwpcF/LyWn61YF2r3ZDQ==', 4390), ('tFRL97+0mluUiLf6lR3qQnp4pa/pXVBJ6VN0eXBdExFt0V9fPY8H5YDHp7HiGFCPp2WkONaXd0ippv87shGmcQ==', 4046), ('gAjvJgodeKO2IW3LVwzZxY4rwMxySmHtCuXAlVGVRD0ZPwNdETJ+S+ut7/1FR0IiF35MmZRGp8PZPgDr6D8pFw==', 3987), ('nNbAayT6hRtQHFin/VWfeq4H6iJ/lHOnjfrHSFeIeRxvt3z5YkRHvtp3Q0VO3F6uRny9mDHcjiCYGJ1KJQ6BNg==', 3620), ('/XIhfEKO27ngFqiOWS5VBLbRGEp8eqMghGEcRtH7xFfwtXRZLw5nwqXSFxU8Ez7u4EM2pc/WCuIQ07Okki1Vew==', 3413), ('YuV9dD2Bs8I1RVh5dXFoz9DPeY2s5eyKPp8qqR4lcBq8RM/u/DL7Mit+S7O6VX2KLK+DsF5zfYZgvISP/x2Hnw==', 3164)]\n",
      "User #1 , Num Updates:  ('kN91vAk/cntIE4qOgH6b06ZWInymLuAez37ZA5gv+WfT8CCewv+MDGk1WrI8+25uM+UN1TvXBj+Tl5uQoNvZ7g==', 7504)\n",
      "User #2 , Num Updates:  ('oCgWHk6Cfsa52vAOJBPqBDyKN+OH3Obx0/bXBShVJD/ADN371LAMW/oqwegoh7Hec1psCxzg39QbtRKnL4M3NA==', 6285)\n",
      "User #3 , Num Updates:  ('/YNNvIErSA5atGXTER7fymCxIY/9xvunlE0Kisx+Cbppoi6szjAkwAeHn2cSLimDx6c8/W/4YKYoSr0fKZXBFw==', 5331)\n",
      "User #4 , Num Updates:  ('bRwFe1qJhazPc7ur8S6hK8U0J0iPFVap53hfqoo9lxMebVE7a+ipl2x8FUkL3oRtUjW+0JImeTYb2XQAEq5rjw==', 4510)\n",
      "User #5 , Num Updates:  ('ay5U7RmL4QAj/p06ODdMbVh7lc1LqvfZHMFaU6BNIzcIVD1QSn1gerRGhCtGMqewNZKwpcF/LyWn61YF2r3ZDQ==', 4390)\n",
      "User #6 , Num Updates:  ('tFRL97+0mluUiLf6lR3qQnp4pa/pXVBJ6VN0eXBdExFt0V9fPY8H5YDHp7HiGFCPp2WkONaXd0ippv87shGmcQ==', 4046)\n",
      "User #7 , Num Updates:  ('gAjvJgodeKO2IW3LVwzZxY4rwMxySmHtCuXAlVGVRD0ZPwNdETJ+S+ut7/1FR0IiF35MmZRGp8PZPgDr6D8pFw==', 3987)\n",
      "User #8 , Num Updates:  ('nNbAayT6hRtQHFin/VWfeq4H6iJ/lHOnjfrHSFeIeRxvt3z5YkRHvtp3Q0VO3F6uRny9mDHcjiCYGJ1KJQ6BNg==', 3620)\n",
      "User #9 , Num Updates:  ('/XIhfEKO27ngFqiOWS5VBLbRGEp8eqMghGEcRtH7xFfwtXRZLw5nwqXSFxU8Ez7u4EM2pc/WCuIQ07Okki1Vew==', 3413)\n",
      "User #10 , Num Updates:  ('YuV9dD2Bs8I1RVh5dXFoz9DPeY2s5eyKPp8qqR4lcBq8RM/u/DL7Mit+S7O6VX2KLK+DsF5zfYZgvISP/x2Hnw==', 3164)\n"
     ]
    }
   ],
   "source": [
    "sorted_up_user = sorted(c.items(), key=operator.itemgetter(1), reverse=True)\n",
    "print(sorted_up_user[:10])\n",
    "#Top-10\n",
    "for i in range(10):\n",
    "    proj = sorted_up_user[i]\n",
    "    up = sorted_up_user[i]\n",
    "\n",
    "    print(\"User #\" + str(i + 1), \", Num Updates: \", up)"
   ]
  },
  {
   "cell_type": "code",
   "execution_count": null,
   "id": "3f52784d",
   "metadata": {},
   "outputs": [],
   "source": []
  }
 ],
 "metadata": {
  "kernelspec": {
   "display_name": "Python 3 (ipykernel)",
   "language": "python",
   "name": "python3"
  },
  "language_info": {
   "codemirror_mode": {
    "name": "ipython",
    "version": 3
   },
   "file_extension": ".py",
   "mimetype": "text/x-python",
   "name": "python",
   "nbconvert_exporter": "python",
   "pygments_lexer": "ipython3",
   "version": "3.11.4"
  }
 },
 "nbformat": 4,
 "nbformat_minor": 5
}
