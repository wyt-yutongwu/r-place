{
 "cells": [
  {
   "cell_type": "code",
   "execution_count": 1,
   "metadata": {},
   "outputs": [],
   "source": [
    "import csv\n",
    "import numpy as np\n",
    "import scipy\n",
    "import networkx as nx\n",
    "import math\n",
    "import sys\n",
    "import os\n",
    "import subprocess\n",
    "import scipy.stats\n",
    "import scipy.optimize\n",
    "import operator\n",
    "import time\n",
    "from sklearn.manifold import TSNE\n",
    "import matplotlib.pyplot as plt\n",
    "from sklearn.preprocessing import StandardScaler\n",
    "from sklearn.ensemble import GradientBoostingRegressor\n",
    "from scipy.sparse import csr_matrix\n",
    "\n",
    "sys.path.append(\"../Python_code\") # go to parent dir\n",
    "from canvas_vis import * \n",
    "from analytics_combined import *\n",
    "from generate_proj_to_remove import *\n",
    "from project_data_analysis import *\n",
    "from user_embedding import *\n",
    "from segmentation import *\n",
    "from evaluation import *\n",
    "import pickle"
   ]
  },
  {
   "cell_type": "code",
   "execution_count": 2,
   "metadata": {},
   "outputs": [],
   "source": [
    "#Parameters\n",
    "\n",
    "#Area of the canvas considered (0-1002,0-1002 is the full canvas)\n",
    "min_x = 0\n",
    "max_x = 1002\n",
    "min_y = 0\n",
    "max_y = 1002\n",
    "\n",
    "#distance threshold in update graphs\n",
    "#updates within dist_threshold positions from each other\n",
    "#that co-exist at any point in time will be connected\n",
    "dist_threshold = 4\n",
    "\n",
    "#Multithreading\n",
    "num_threads = 3\n",
    "\n",
    "#Kappa parameter for the region segmentation of the\n",
    "#update graph\n",
    "KAPPA_updates = 1.\n",
    "\n",
    "#Kappa parameter for the segmentation of the\n",
    "#region graph\n",
    "KAPPA_region = .55\n",
    "\n",
    "#User signed embedding parameters\n",
    "ndim=160\n",
    "threshold=5\n",
    "total_samples=300\n",
    "n_negatives=5\n",
    "n_iterations=10"
   ]
  },
  {
   "cell_type": "code",
   "execution_count": 3,
   "metadata": {},
   "outputs": [
    {
     "name": "stdout",
     "output_type": "stream",
     "text": [
      "time =  373.59283447265625  seconds\n"
     ]
    }
   ],
   "source": [
    "#Reading ground truth data\n",
    "\n",
    "t = time.time()\n",
    "\n",
    "projects_to_remove = get_list_of_removed_proj(output_filename = \"../data/proj_to_remove.txt\")\n",
    "\n",
    "input_file= \"../data/sorted_tile_placements_proj.csv\"\n",
    "js_filename = \"../data/atlas_complete.json\"\n",
    "\n",
    "names, descriptions = read_picture_names_and_descriptions(js_filename)\n",
    "\n",
    "print(\"time = \", time.time()-t, \" seconds\")"
   ]
  },
  {
   "cell_type": "code",
   "execution_count": 4,
   "metadata": {},
   "outputs": [
    {
     "name": "stdout",
     "output_type": "stream",
     "text": [
      "num edges =  468152954\n",
      "time =  11285.80235362053  seconds\n"
     ]
    }
   ],
   "source": [
    "#Creating and saving update graph and associated list of updates\n",
    "\n",
    "t = time.time()\n",
    "\n",
    "G_ups, ups = create_graph(input_file, projects_to_remove, dist_threshold, min_x, max_x, min_y, max_y)\n",
    "\n",
    "print(\"num edges = \", G_ups.n_edges)\n",
    "\n",
    "pfile = open('graph.pkl', 'wb')\n",
    "pickle.dump(G_ups, pfile)\n",
    "pfile.close()\n",
    "\n",
    "pfile = open('ups.pkl', 'wb')\n",
    "pickle.dump(ups, pfile)\n",
    "pfile.close()\n",
    "\n",
    "print(\"time = \", time.time()-t, \" seconds\")"
   ]
  },
  {
   "cell_type": "code",
   "execution_count": 4,
   "metadata": {},
   "outputs": [],
   "source": [
    "#Reading existing update graph and associated list of updates\n",
    "\n",
    "pfile = open('graph.pkl', 'rb')\n",
    "G_ups = pickle.load(pfile)\n",
    "pfile.close()\n",
    "\n",
    "pfile = open('ups.pkl', 'rb')\n",
    "ups = pickle.load(pfile)\n",
    "pfile.close()"
   ]
  },
  {
   "cell_type": "code",
   "execution_count": 5,
   "metadata": {},
   "outputs": [],
   "source": [
    "def size_one_regions(ups):\n",
    "    '''\n",
    "        Size one regions from updates.\n",
    "    '''\n",
    "    regions = []\n",
    "\n",
    "    for u in range(len(ups)):\n",
    "        regions.append([u])\n",
    "        \n",
    "    return regions"
   ]
  },
  {
   "cell_type": "code",
   "execution_count": 6,
   "metadata": {},
   "outputs": [],
   "source": [
    "regions = size_one_regions(ups)"
   ]
  },
  {
   "cell_type": "code",
   "execution_count": null,
   "metadata": {},
   "outputs": [],
   "source": [
    "ndims = [80, 160, 240, 320]\n",
    "\n"
   ]
  },
  {
   "cell_type": "code",
   "execution_count": 83,
   "metadata": {},
   "outputs": [],
   "source": [
    "def compute_user_color(regions, ups):\n",
    "    '''\n",
    "        Computes, for each update, a vector\n",
    "        with frequencies of colors used by \n",
    "        its author.\n",
    "    '''\n",
    "    user_index = {}\n",
    "\n",
    "    for r in range(len(regions)):\n",
    "        for u in regions[r]:\n",
    "            up = ups[u]\n",
    "            user = up[1]\n",
    "            \n",
    "            if user not in user_index:\n",
    "                user_index[user] = len(user_index)\n",
    "\n",
    "    user_color = np.zeros((len(user_index)+1, 16))\n",
    "\n",
    "    for r in range(len(regions)):\n",
    "        for u in regions[r]:\n",
    "            up = ups[u]\n",
    "            user = up[1]\n",
    "            color = int(up[4])\n",
    "\n",
    "            idx_user = user_index[user]\n",
    "            user_color[idx_user][color] = user_color[idx_user][color] + 1\n",
    "\n",
    "    for i in range(user_color.shape[0]):\n",
    "        if user_color[i].sum() > 0:\n",
    "            user_color[i] = user_color[i] / user_color[i].sum()\n",
    "\n",
    "    region_color = np.zeros((len(regions), 16))\n",
    "    \n",
    "    for r in range(len(regions)):\n",
    "        for u in regions[r]:\n",
    "            up = ups[u]\n",
    "            user = up[1] \n",
    "            \n",
    "            region_color[r] = region_color[r] + user_color[user_index[user]]\n",
    "            \n",
    "        region_color[r] = region_color[r] / len(regions[r])\n",
    "    \n",
    "    return scipy.sparse.csr_matrix(region_color)\n",
    "\n",
    "def compute_user_avg_update_pos(regions, ups):\n",
    "    '''\n",
    "    '''\n",
    "    user_index = {}\n",
    "\n",
    "    for r in range(len(regions)):\n",
    "        for u in regions[r]:\n",
    "            up = ups[u]\n",
    "            user = up[1]\n",
    "            \n",
    "            if user not in user_index:\n",
    "                user_index[user] = len(user_index)\n",
    "\n",
    "    user_avg = np.zeros((len(user_index)+1, 2))\n",
    "    count = np.zeros(len(user_index)+1)\n",
    "                                \n",
    "    for r in range(len(regions)):\n",
    "        for u in regions[r]:\n",
    "            up = ups[u]\n",
    "            user = up[1]\n",
    "            x = up[2]\n",
    "            y = up[3]\n",
    "\n",
    "            idx_user = user_index[user]\n",
    "            user_avg[idx_user] = user_avg[idx_user] + np.array([x,y])\n",
    "            count[idx_user] = count[idx_user] + 1\n",
    "\n",
    "    for i in range(user_avg.shape[0]):\n",
    "        if count[i].sum() > 0:\n",
    "            user_avg[i] = user_avg[i] / count[i]\n",
    "\n",
    "    region_avg = np.zeros((len(regions), 2))\n",
    "    \n",
    "    for r in range(len(regions)):\n",
    "        for u in regions[r]:\n",
    "            up = ups[u]\n",
    "            user = up[1] \n",
    "            \n",
    "            region_avg[r] = region_avg[r] + user_avg[user_index[user]]\n",
    "            \n",
    "        region_avg[r] = region_avg[r] / len(regions[r])\n",
    "    \n",
    "    return region_avg\n",
    "\n",
    "def compute_colors(regions, ups):\n",
    "    '''\n",
    "        Computes sparse matrix of color frequencies\n",
    "        for each region.\n",
    "    '''\n",
    "    rows = []\n",
    "    cols = []\n",
    "    data = []\n",
    "    for r in range(len(regions)):\n",
    "        region = regions[r]\n",
    "        colors = np.zeros(16)\n",
    "        for u in region:\n",
    "            up = ups[u]\n",
    "            color = int(up[4])\n",
    "            colors[color] = colors[color] + 1\n",
    "\n",
    "        colors = colors / np.sum(colors)\n",
    "\n",
    "        for c in range(len(colors)):\n",
    "            if colors[c] > 0:\n",
    "                rows.append(r)\n",
    "                cols.append(c)\n",
    "                data.append(colors[c])\n",
    "\n",
    "    return scipy.sparse.csr_matrix((data, (rows, cols)), shape=(len(regions), 16))\n",
    "\n",
    "def compute_user_vectors(regions, user_vec, user_index, ups):\n",
    "    '''\n",
    "        Compute mean of user_vec for the region\n",
    "        Works for the signed embedding and color embedding\n",
    "    '''\n",
    "    user_vec_regions = np.zeros((len(regions), user_vec.shape[1]))\n",
    "\n",
    "    for r in range(len(regions)):\n",
    "        for u in regions[r]:\n",
    "            user = ups[u][1]\n",
    "            idx_user = user_index[user]\n",
    "\n",
    "            if scipy.sparse.issparse(user_vec):\n",
    "                user_vec_regions[r] = user_vec_regions[r] + user_vec[idx_user].todense()\n",
    "            else:\n",
    "                user_vec_regions[r] = user_vec_regions[r] + user_vec[idx_user]\n",
    "\n",
    "            user_vec_regions[r] = user_vec_regions[r] / len(regions[r])\n",
    "\n",
    "    return user_vec_regions\n"
   ]
  },
  {
   "cell_type": "code",
   "execution_count": 81,
   "metadata": {},
   "outputs": [],
   "source": [
    "def sum_sizes(i, j, ups, data):\n",
    "    '''\n",
    "        Sum of region sizes\n",
    "    '''\n",
    "    return len(data['regions'][i])+len(data['regions'][j])\n",
    "\n",
    "def diff_sizes(i, j, ups, data):\n",
    "    '''\n",
    "        Difference of region sizes\n",
    "    '''\n",
    "    return np.abs(len(data['regions'][i])-len(data['regions'][j]))\n",
    "\n",
    "def distance_space(i,j,ups,data):\n",
    "    '''\n",
    "        Computes the distance between the average\n",
    "        points of two regions.\n",
    "    '''\n",
    "    avg_xi = 0\n",
    "    avg_yi = 0\n",
    "    \n",
    "    for ui in data['regions'][i]:\n",
    "        upi = ups[ui]\n",
    "        xi = upi[2]\n",
    "        yi = upi[3]\n",
    "        \n",
    "        avg_xi = avg_xi + xi\n",
    "        avg_yi = avg_yi + yi\n",
    "        \n",
    "    avg_xi = avg_xi / len(data['regions'][i])\n",
    "    avg_yi = avg_yi / len(data['regions'][i])\n",
    "    \n",
    "    avg_xj = 0\n",
    "    avg_yj = 0\n",
    "            \n",
    "    for uj in data['regions'][j]:\n",
    "        upj = ups[uj]\n",
    "        xj = upj[2]\n",
    "        yj = upj[3]\n",
    "        \n",
    "        avg_xj = avg_xj + xj\n",
    "        avg_yj = avg_yj + yj\n",
    "        \n",
    "    avg_xj = avg_xj / len(data['regions'][j])\n",
    "    avg_yj = avg_yj / len(data['regions'][j])\n",
    "    \n",
    "    return math.sqrt(math.pow(avg_xi-avg_xj,2)+math.pow(avg_yi-avg_yj,2))\n",
    "\n",
    "def distance_time(i,j,ups,data):\n",
    "    '''\n",
    "        Computes (absolute) distance between the\n",
    "        average time of two regions.\n",
    "    '''\n",
    "    avg_ti = 0\n",
    "    for ui in data['regions'][i]:\n",
    "        upi = ups[ui]\n",
    "        avg_ti = avg_ti + upi[0]\n",
    "    \n",
    "    avg_ti = avg_ti / len(data['regions'][i])\n",
    "    \n",
    "    avg_tj = 0\n",
    "    for uj in data['regions'][j]:\n",
    "        upj = ups[uj]\n",
    "        avg_tj = avg_tj + upj[0]      \n",
    "    \n",
    "    avg_tj = avg_tj / len(data['regions'][j])\n",
    "    \n",
    "    return np.abs(avg_ti-avg_tj) / 3600000 #hours\n",
    "\n",
    "def distance_user_colors(i, j, ups, data):\n",
    "    '''\n",
    "        Distance between avg user color embeddings for regions.\n",
    "    '''\n",
    "    return 1.-np.minimum(data['user_color'][i].todense(), data['user_color'][j].todense()).sum()\n",
    "\n",
    "def distance_colors(i, j, ups, data):\n",
    "    '''\n",
    "        Distance between avg user color embeddings for regions.\n",
    "    '''\n",
    "    return 1.-np.minimum(data['color'][i].todense(), data['color'][j].todense()).sum()\n",
    "\n",
    "def distance_durations(i, j, ups, data):\n",
    "    '''\n",
    "        Distance between the durations of two regions.\n",
    "    '''\n",
    "    return dist_duration(data['dur'][i], data['dur'][j])\n",
    "\n",
    "def distance_sign_embedding(i, j, ups, data):\n",
    "    '''\n",
    "        Distance between avg user embeddings for regions.\n",
    "    '''\n",
    "    return np.linalg.norm(data['sign'][i]-data['sign'][j])\n",
    "\n",
    "def distance_act_embedding(i, j, ups, data):\n",
    "    '''\n",
    "        Distance between avg user embeddings for regions.\n",
    "    '''\n",
    "    return np.linalg.norm(data['act'][i]-data['act'][j])\n",
    "\n",
    "def distance_user_avg_pos(i, j, ups, data):\n",
    "    '''\n",
    "    '''\n",
    "    return np.linalg.norm(data['avg_pos'][i]-data['avg_pos'][j])"
   ]
  },
  {
   "cell_type": "code",
   "execution_count": 13,
   "metadata": {},
   "outputs": [],
   "source": [
    "def embed_users_act(G, ups, ndim=40, threshold=5, total_samples=100, n_negatives=5, n_iterations=10):\n",
    "    '''\n",
    "    '''\n",
    "    G_act, user_index = compute_user_activity_graph(G, ups)\n",
    "\n",
    "    act_embedding(G_act, user_index, \"actnet\", ndim, threshold, total_samples, n_negatives,  n_iterations)\n",
    "\n",
    "    emb = read_embedding(\"actnet\", user_index, ndim)\n",
    "\n",
    "    return user_index, emb"
   ]
  },
  {
   "cell_type": "code",
   "execution_count": 16,
   "metadata": {},
   "outputs": [],
   "source": [
    "def compute_feature_values(edge_buffer, ups, features):\n",
    "    '''\n",
    "    '''\n",
    "    feat_values = np.zeros((len(edge_buffer), len(features)))\n",
    "\n",
    "    for e in range(len(edge_buffer)):\n",
    "        u = edge_buffer[e][0]\n",
    "        v = edge_buffer[e][1]\n",
    "\n",
    "        for f in range(len(features)):\n",
    "            feat_values[e][f] = features[f]['func'](u, v, ups, features[f]['data'])\n",
    "\n",
    "    return feat_values\n",
    "\n",
    "def compute_feature_values_wrapper(param):\n",
    "    '''\n",
    "        Simple wrapper for the compute_weight function\n",
    "    '''\n",
    "    #Loading pickled features\n",
    "    #Each thread has its own copy, which is quite inneficient\n",
    "    pfile = open(param[2], 'rb')\n",
    "    features = pickle.load(pfile)\n",
    "    pfile.close()\n",
    "\n",
    "    return compute_feature_values(param[0], param[1], features)\n",
    "\n",
    "def build_feat_label_data_multithread(G, ups, features, features_file_name, n_threads, pixel=False):\n",
    "    '''\n",
    "    '''\n",
    "    #Pickling feature data to be shared with threads\n",
    "    if not os.path.exists(features_file_name):\n",
    "        pfile = open(features_file_name, 'wb')\n",
    "        pickle.dump(features, pfile)\n",
    "        pfile.close()\n",
    "        \n",
    "    n_labelled = 0\n",
    "    with open(G.unique_edges_file_name, 'r') as file_in:\n",
    "        reader = csv.reader(file_in)\n",
    "\n",
    "        for r in reader:\n",
    "            u = int(r[0])\n",
    "            v = int(r[1])\n",
    "            lb = r[2]\n",
    "            type_edge = int(r[3])\n",
    "\n",
    "            #updates.append([ts, user, x, y, color, proj, pixel, pixel_color])\n",
    "            \n",
    "            if type_edge > 0:\n",
    "                if pixel is True:\n",
    "                    if int(ups[u][6]) == 1 and int(ups[v][6]) == 1:\n",
    "                        n_labelled = n_labelled + 1\n",
    "                else:\n",
    "                    if int(ups[u][7]) == 1 and int(ups[v][7]) == 1:\n",
    "                        n_labelled = n_labelled + 1\n",
    "\n",
    "    A = np.zeros((n_labelled, len(features)))\n",
    "    b = np.zeros(n_labelled)\n",
    "\n",
    "    edge_buffer = []\n",
    "    \n",
    "    i = 0\n",
    "    n = 0\n",
    "    with open(G.unique_edges_file_name, 'r') as file_in:\n",
    "        reader = csv.reader(file_in)\n",
    "\n",
    "        for r in reader:\n",
    "            u = int(r[0])\n",
    "            v = int(r[1])\n",
    "            lb = int(r[2])\n",
    "            type_edge = int(r[3])\n",
    "            \n",
    "            if type_edge > 0:\n",
    "                if pixel is True:\n",
    "                    if int(ups[u][6]) == 1 and int(ups[v][6]) == 1:\n",
    "                        edge_buffer.append((u,v))\n",
    "                        \n",
    "                        if lb == 1:\n",
    "                            b[i] = 0.\n",
    "                        else:\n",
    "                            b[i] = 1.\n",
    "                            \n",
    "                        i = i + 1\n",
    "                else:\n",
    "                    if int(ups[u][7]) == 1 and int(ups[v][7]) == 1:\n",
    "                        edge_buffer.append((u,v))\n",
    "                        \n",
    "                        if lb == 1:\n",
    "                            b[i] = 0.\n",
    "                        else:\n",
    "                            b[i] = 1.\n",
    "                            \n",
    "                        i = i + 1\n",
    "                    \n",
    "            if len(edge_buffer) > G.buffer_size:\n",
    "                edges_per_thread = int(len(edge_buffer) / n_threads)\n",
    "                edge_parts = []\n",
    "    \n",
    "                for t in range(n_threads):\n",
    "                    edge_parts.append([])\n",
    "\n",
    "                e = 0\n",
    "                for e in range(len(edge_buffer)):\n",
    "                    t = e % n_threads\n",
    "                    edge_parts[t].append(edge_buffer[e])\n",
    "\n",
    "                futures = []\n",
    "\n",
    "                #Multithreading\n",
    "                with concurrent.futures.ProcessPoolExecutor(max_workers=n_threads) as executor:\n",
    "                    for t in range(n_threads):\n",
    "                        fut = executor.submit(compute_feature_values_wrapper, (edge_parts[t], ups, features_file_name))\n",
    "                        futures.append(fut)\n",
    "\n",
    "                #Collecting results\n",
    "                for t in range(n_threads):\n",
    "                    fut = futures[t]\n",
    "                    res = fut.result()\n",
    "                    for e in range(res.shape[0]):\n",
    "                        A[n+e*n_threads+t] = res[e]\n",
    "                \n",
    "                n = n + len(edge_buffer)\n",
    "                        \n",
    "                edge_buffer = []\n",
    "                \n",
    "    if len(edge_buffer) > 0:\n",
    "        edges_per_thread = int(len(edge_buffer) / n_threads)\n",
    "        edge_parts = []\n",
    "    \n",
    "        for t in range(n_threads):\n",
    "            edge_parts.append([])\n",
    "\n",
    "        e = 0\n",
    "        for e in range(len(edge_buffer)):\n",
    "            t = e % n_threads\n",
    "            edge_parts[t].append(edge_buffer[e])\n",
    "\n",
    "        futures = []\n",
    "\n",
    "        #Multithreading\n",
    "        with concurrent.futures.ProcessPoolExecutor(max_workers=n_threads) as executor:\n",
    "            for t in range(n_threads):\n",
    "                fut = executor.submit(compute_feature_values_wrapper, (edge_parts[t], ups, features_file_name))\n",
    "                futures.append(fut)\n",
    "\n",
    "        #Collecting results\n",
    "        for t in range(n_threads):\n",
    "            fut = futures[t]\n",
    "            res = fut.result()\n",
    "            for e in range(res.shape[0]):\n",
    "                A[n+e*n_threads+t] = res[e]\n",
    "                                        \n",
    "    return A, b"
   ]
  },
  {
   "cell_type": "code",
   "execution_count": 14,
   "metadata": {},
   "outputs": [
    {
     "name": "stdout",
     "output_type": "stream",
     "text": [
      "python ../../signet/signet.py -l signet_id.txt -i signet.txt -o signet -d 160 -t 5 -s 300\n",
      "balanced:\n",
      "+++  0.5976787139066786  rand =  0.2938515707880298\n",
      "+--  0.17136926107885272  rand =  0.22406081377688286\n",
      "unbalanced:\n",
      "++-  0.20882533484044638  rand =  0.4444343216282286\n",
      "---  0.022126690174022322  rand =  0.03765329380685877\n",
      "avg pos =  0.8117183544019968 , n =  16547688\n",
      "avg neg =  1.3827003177288753 , n =  8342489\n",
      "python ../../signet/signet.py -l actnet_id.txt -i actnet.txt -o actnet -d 160 -t 5 -s 300\n"
     ]
    }
   ],
   "source": [
    "user_color = compute_user_color(regions, ups)\n",
    "color = compute_region_colors(regions, ups)\n",
    "durations = compute_update_durations(ups)\n",
    "region_durations = compute_region_durations(regions, durations, ups)\n",
    "\n",
    "user_index_sign, emb_sign = embed_users_sign(G_ups, ups, ndim, threshold, total_samples, n_negatives, n_iterations, True)\n",
    "user_index_act, emb_act = embed_users_act(G_ups, ups, ndim, threshold, total_samples, n_negatives, n_iterations)\n",
    "\n",
    "sign_emb = compute_user_vector_regions(regions, emb_sign, user_index_sign, ups)\n",
    "act_emb = compute_user_vector_regions(regions, emb_act, user_index_act, ups)\n"
   ]
  },
  {
   "cell_type": "code",
   "execution_count": 84,
   "metadata": {},
   "outputs": [],
   "source": [
    "user_avg_pos = compute_user_avg_update_pos(regions, ups)"
   ]
  },
  {
   "cell_type": "code",
   "execution_count": 68,
   "metadata": {},
   "outputs": [
    {
     "name": "stdout",
     "output_type": "stream",
     "text": [
      "time =  384709.51917147636  seconds\n"
     ]
    }
   ],
   "source": [
    "features = [{'name': \"distance_colors\", 'func': distance_colors, 'data': {'color': color}}, \n",
    "    {'name': \"distance_space\",  'func': distance_space, 'data': {'regions': regions}}, \n",
    "    {'name': \"distance_time\", 'func': distance_time, 'data': {'regions': regions}},\n",
    "    {'name': \"distance_user_colors\", 'func': distance_user_colors, 'data': {'user_color': user_color}},\n",
    "    {'name': \"distance_durations\", 'func': distance_durations, 'data': {'dur': durations}},\n",
    "    {'name': \"sum_sizes\", 'func': sum_sizes, 'data': {'regions': regions}},\n",
    "    {'name': \"diff_sizes\", 'func': diff_sizes, 'data': {'regions': regions}},\n",
    "    {'name': \"distance _sign_embedding\", 'func': distance_sign_embedding, 'data': {'sign': sign_emb}},\n",
    "    {'name': \"distance_act_embedding\", 'func': distance_act_embedding, 'data': {'act': act_emb}}]\n",
    "\n",
    "pfile = open('features.pkl', 'wb')\n",
    "pickle.dump(features, pfile, protocol=4)\n",
    "pfile.close()\n",
    "\n",
    "print(\"time = \", time.time()-t, \" seconds\")"
   ]
  },
  {
   "cell_type": "code",
   "execution_count": null,
   "metadata": {},
   "outputs": [],
   "source": [
    "A,b = build_feat_label_data(G_ups, ups, features, 'features.pkl')"
   ]
  },
  {
   "cell_type": "code",
   "execution_count": 17,
   "metadata": {},
   "outputs": [
    {
     "data": {
      "text/plain": [
       "([<matplotlib.axis.XTick at 0x7f06a757fa20>,\n",
       "  <matplotlib.axis.XTick at 0x7f06a757f278>],\n",
       " <a list of 2 Text xticklabel objects>)"
      ]
     },
     "execution_count": 17,
     "metadata": {},
     "output_type": "execute_result"
    },
    {
     "data": {
      "image/png": "[encoded data removed]",
      "text/plain": [
       "<Figure size 432x288 with 1 Axes>"
      ]
     },
     "metadata": {
      "needs_background": "light"
     },
     "output_type": "display_data"
    }
   ],
   "source": [
    "true_edges = A[:,0][b > 0.5]\n",
    "false_edges = A[:,0][b < 0.5]\n",
    "\n",
    "_, bins, _ = plt.hist(false_edges, bins=2, range=[0., 2.], density=True, color='r', label='Non-edge', align='left')\n",
    "_ = plt.hist(true_edges, bins=bins, alpha=.5, density=True, color='b', label='Edge', align='left')\n",
    "plt.xlabel(\"distance\", fontsize=20)\n",
    "plt.ylabel(\"density\", fontsize=20)\n",
    "plt.xticks(fontsize=15)\n",
    "plt.yticks(fontsize=15)\n",
    "plt.legend(loc='upper left', fontsize=16, ncol=1)\n",
    "plt.xticks(range(2))"
   ]
  },
  {
   "cell_type": "code",
   "execution_count": 24,
   "metadata": {},
   "outputs": [
    {
     "data": {
      "text/plain": [
       "(0, 0.334407872842545)"
      ]
     },
     "execution_count": 24,
     "metadata": {},
     "output_type": "execute_result"
    },
    {
     "data": {
      "image/png": "[encoded data removed]",
      "text/plain": [
       "<Figure size 432x288 with 1 Axes>"
      ]
     },
     "metadata": {
      "needs_background": "light"
     },
     "output_type": "display_data"
    }
   ],
   "source": [
    "true_edges = A[:,1][b > 0.5]\n",
    "false_edges = A[:,1][b < 0.5]\n",
    "\n",
    "_, bins, _ = plt.hist(false_edges, bins=5, range=[0., 7.], density=True, color='r', label='Non-edge')\n",
    "_ = plt.hist(true_edges, bins=bins, alpha=.5, density=True, color='b', label='Edge')\n",
    "plt.xlabel(\"distance\", fontsize=20)\n",
    "plt.ylabel(\"density\", fontsize=20)\n",
    "plt.xticks(fontsize=15)\n",
    "plt.yticks(fontsize=15)\n",
    "plt.legend(loc='upper left', fontsize=16, ncol=1)\n",
    "plt.ylim([0,None])\n",
    "#plt.xticks(range(2))"
   ]
  },
  {
   "cell_type": "code",
   "execution_count": 30,
   "metadata": {},
   "outputs": [
    {
     "data": {
      "text/plain": [
       "(0, 0.22933579119380226)"
      ]
     },
     "execution_count": 30,
     "metadata": {},
     "output_type": "execute_result"
    },
    {
     "data": {
      "image/png": "[encoded data removed]",
      "text/plain": [
       "<Figure size 432x288 with 1 Axes>"
      ]
     },
     "metadata": {
      "needs_background": "light"
     },
     "output_type": "display_data"
    }
   ],
   "source": [
    "true_edges = A[:,2][b > 0.5]\n",
    "false_edges = A[:,2][b < 0.5]\n",
    "\n",
    "_, bins, _ = plt.hist(false_edges, bins=50, density=True, color='r', label='Non-edge')\n",
    "_ = plt.hist(true_edges, bins=bins, alpha=.5, density=True, color='b', label='Edge')\n",
    "plt.xlabel(\"distance\", fontsize=20)\n",
    "plt.ylabel(\"density\", fontsize=20)\n",
    "plt.xticks(fontsize=15)\n",
    "plt.yticks(fontsize=15)\n",
    "plt.legend(loc='upper right', fontsize=16, ncol=1)\n",
    "plt.ylim([0,None])\n",
    "#plt.xticks(range(2))"
   ]
  },
  {
   "cell_type": "code",
   "execution_count": 70,
   "metadata": {},
   "outputs": [],
   "source": [
    "true_edges = A[:,3][b > 0.5]\n",
    "false_edges = A[:,3][b < 0.5]"
   ]
  },
  {
   "cell_type": "code",
   "execution_count": 71,
   "metadata": {},
   "outputs": [
    {
     "data": {
      "text/plain": [
       "(0, 2.615978880658269)"
      ]
     },
     "execution_count": 71,
     "metadata": {},
     "output_type": "execute_result"
    },
    {
     "data": {
      "image/png": "[encoded data removed]",
      "text/plain": [
       "<Figure size 432x288 with 1 Axes>"
      ]
     },
     "metadata": {
      "needs_background": "light"
     },
     "output_type": "display_data"
    }
   ],
   "source": [
    "_, bins, _ = plt.hist(false_edges, bins=100, density=True, color='r', label='Non-edge')\n",
    "_ = plt.hist(true_edges, bins=bins, alpha=.5, density=True, color='b', label='Edge')\n",
    "plt.xlabel(\"distance\", fontsize=20)\n",
    "plt.ylabel(\"density\", fontsize=20)\n",
    "plt.xticks(fontsize=15)\n",
    "plt.yticks(fontsize=15)\n",
    "plt.legend(loc='upper right', fontsize=16, ncol=1)\n",
    "plt.ylim([0,None])\n",
    "#plt.xticks(range(2))"
   ]
  },
  {
   "cell_type": "code",
   "execution_count": 58,
   "metadata": {},
   "outputs": [
    {
     "data": {
      "text/plain": [
       "(0, 13.22167325035982)"
      ]
     },
     "execution_count": 58,
     "metadata": {},
     "output_type": "execute_result"
    },
    {
     "data": {
      "image/png": "[encoded data removed]",
      "text/plain": [
       "<Figure size 432x288 with 1 Axes>"
      ]
     },
     "metadata": {
      "needs_background": "light"
     },
     "output_type": "display_data"
    }
   ],
   "source": [
    "true_edges = A[:,4][b > 0.5]\n",
    "false_edges = A[:,4][b < 0.5]\n",
    "\n",
    "_, bins, _ = plt.hist(false_edges, bins=25, density=True, color='r', label='Non-edge')\n",
    "_ = plt.hist(true_edges, bins=bins, alpha=.5, density=True, color='b', label='Edge')\n",
    "plt.xlabel(\"distance\", fontsize=20)\n",
    "plt.ylabel(\"density\", fontsize=20)\n",
    "plt.xticks(fontsize=15)\n",
    "plt.yticks(fontsize=15)\n",
    "plt.legend(loc='upper left', fontsize=16, ncol=1)\n",
    "plt.ylim([0,None])\n",
    "#plt.xticks(range(2))"
   ]
  },
  {
   "cell_type": "code",
   "execution_count": 60,
   "metadata": {},
   "outputs": [
    {
     "data": {
      "text/plain": [
       "(0, 1.3381828118764465)"
      ]
     },
     "execution_count": 60,
     "metadata": {},
     "output_type": "execute_result"
    },
    {
     "data": {
      "image/png": "[encoded data removed]",
      "text/plain": [
       "<Figure size 432x288 with 1 Axes>"
      ]
     },
     "metadata": {
      "needs_background": "light"
     },
     "output_type": "display_data"
    }
   ],
   "source": [
    "true_edges = A[:,7][b > 0.5]\n",
    "false_edges = A[:,7][b < 0.5]\n",
    "\n",
    "_, bins, _ = plt.hist(false_edges, bins=100, density=True, color='r', label='Non-edge')\n",
    "_ = plt.hist(true_edges, bins=bins, alpha=.5, density=True, color='b', label='Edge')\n",
    "plt.xlabel(\"distance\", fontsize=20)\n",
    "plt.ylabel(\"density\", fontsize=20)\n",
    "plt.xticks(fontsize=15)\n",
    "plt.yticks(fontsize=15)\n",
    "plt.legend(loc='upper left', fontsize=16, ncol=1)\n",
    "plt.ylim([0,None])\n",
    "#plt.xticks(range(2))"
   ]
  },
  {
   "cell_type": "code",
   "execution_count": 61,
   "metadata": {},
   "outputs": [],
   "source": [
    "true_edges = A[:,8][b > 0.5]\n",
    "false_edges = A[:,8][b < 0.5]"
   ]
  },
  {
   "cell_type": "code",
   "execution_count": 62,
   "metadata": {},
   "outputs": [
    {
     "data": {
      "text/plain": [
       "(0, 2.7707703969979782)"
      ]
     },
     "execution_count": 62,
     "metadata": {},
     "output_type": "execute_result"
    },
    {
     "data": {
      "image/png": "[encoded data removed]",
      "text/plain": [
       "<Figure size 432x288 with 1 Axes>"
      ]
     },
     "metadata": {
      "needs_background": "light"
     },
     "output_type": "display_data"
    }
   ],
   "source": [
    "_, bins, _ = plt.hist(false_edges, bins=100, density=True, color='r', label='Non-edge')\n",
    "_ = plt.hist(true_edges, bins=bins, alpha=.5, density=True, color='b', label='Edge')\n",
    "plt.xlabel(\"distance\", fontsize=20)\n",
    "plt.ylabel(\"density\", fontsize=20)\n",
    "plt.xticks(fontsize=15)\n",
    "plt.yticks(fontsize=15)\n",
    "plt.legend(loc='upper left', fontsize=16, ncol=1)\n",
    "plt.ylim([0,None])"
   ]
  },
  {
   "cell_type": "code",
   "execution_count": 73,
   "metadata": {},
   "outputs": [
    {
     "name": "stdout",
     "output_type": "stream",
     "text": [
      "time =  694808.9601237774  seconds\n"
     ]
    }
   ],
   "source": [
    "features = [{'name': \"distance_user_colors\", 'func': distance_user_colors, 'data': {'user_color': user_color}}]\n",
    "\n",
    "pfile = open('features.pkl', 'wb')\n",
    "pickle.dump(features, pfile, protocol=4)\n",
    "pfile.close()\n",
    "\n",
    "print(\"time = \", time.time()-t, \" seconds\")"
   ]
  },
  {
   "cell_type": "code",
   "execution_count": 74,
   "metadata": {},
   "outputs": [],
   "source": [
    "A,b = build_feat_label_data(G_ups, ups, features, 'features.pkl')"
   ]
  },
  {
   "cell_type": "code",
   "execution_count": 75,
   "metadata": {},
   "outputs": [],
   "source": [
    "true_edges = A[:,0][b > 0.5]\n",
    "false_edges = A[:,0][b < 0.5]"
   ]
  },
  {
   "cell_type": "code",
   "execution_count": 76,
   "metadata": {},
   "outputs": [
    {
     "data": {
      "text/plain": [
       "<matplotlib.legend.Legend at 0x7f0894bb8320>"
      ]
     },
     "execution_count": 76,
     "metadata": {},
     "output_type": "execute_result"
    },
    {
     "data": {
      "image/png": "[encoded data removed]",
      "text/plain": [
       "<Figure size 432x288 with 1 Axes>"
      ]
     },
     "metadata": {
      "needs_background": "light"
     },
     "output_type": "display_data"
    }
   ],
   "source": [
    "_, bins, _ = plt.hist(false_edges, bins=100, density=True, color='r', label='Non-edge')\n",
    "_ = plt.hist(true_edges, bins=bins, alpha=.5, density=True, color='b', label='Edge')\n",
    "plt.xlabel(\"distance\", fontsize=20)\n",
    "plt.ylabel(\"density\", fontsize=20)\n",
    "plt.xticks(fontsize=15)\n",
    "plt.yticks(fontsize=15)\n",
    "plt.legend(loc='upper right', fontsize=16, ncol=1)\n"
   ]
  },
  {
   "cell_type": "code",
   "execution_count": 85,
   "metadata": {},
   "outputs": [
    {
     "name": "stdout",
     "output_type": "stream",
     "text": [
      "time =  816367.7802140713  seconds\n"
     ]
    }
   ],
   "source": [
    "features = [{'name': \"distance_user_avg_pos\", 'func': distance_user_avg_pos, 'data': {'avg_pos': user_avg_pos}}]\n",
    "\n",
    "pfile = open('features.pkl', 'wb')\n",
    "pickle.dump(features, pfile, protocol=4)\n",
    "pfile.close()\n",
    "\n",
    "print(\"time = \", time.time()-t, \" seconds\")"
   ]
  },
  {
   "cell_type": "code",
   "execution_count": 86,
   "metadata": {},
   "outputs": [],
   "source": [
    "A,b = build_feat_label_data(G_ups, ups, features, 'features.pkl')"
   ]
  },
  {
   "cell_type": "code",
   "execution_count": 87,
   "metadata": {},
   "outputs": [],
   "source": [
    "true_edges = A[:,0][b > 0.5]\n",
    "false_edges = A[:,0][b < 0.5]"
   ]
  },
  {
   "cell_type": "code",
   "execution_count": 95,
   "metadata": {},
   "outputs": [
    {
     "data": {
      "text/plain": [
       "<matplotlib.legend.Legend at 0x7f0897786e80>"
      ]
     },
     "execution_count": 95,
     "metadata": {},
     "output_type": "execute_result"
    },
    {
     "data": {
      "image/png": "[encoded data removed]",
      "text/plain": [
       "<Figure size 432x288 with 1 Axes>"
      ]
     },
     "metadata": {
      "needs_background": "light"
     },
     "output_type": "display_data"
    }
   ],
   "source": [
    "_, bins, _ = plt.hist(false_edges, bins=400, density=True, color='r', label='Non-edge')\n",
    "_ = plt.hist(true_edges, bins=bins, alpha=.5, density=True, color='b', label='Edge')\n",
    "plt.xlabel(\"distance\", fontsize=20)\n",
    "plt.ylabel(\"density\", fontsize=20)\n",
    "plt.xticks(fontsize=15)\n",
    "plt.yticks(fontsize=15)\n",
    "plt.legend(loc='upper right', fontsize=16, ncol=1)\n"
   ]
  },
  {
   "cell_type": "code",
   "execution_count": null,
   "metadata": {},
   "outputs": [],
   "source": []
  }
 ],
 "metadata": {
  "kernelspec": {
   "display_name": "Python 3",
   "language": "python",
   "name": "python3"
  },
  "language_info": {
   "codemirror_mode": {
    "name": "ipython",
    "version": 3
   },
   "file_extension": ".py",
   "mimetype": "text/x-python",
   "name": "python",
   "nbconvert_exporter": "python",
   "pygments_lexer": "ipython3",
   "version": "3.6.8"
  }
 },
 "nbformat": 4,
 "nbformat_minor": 2
}
