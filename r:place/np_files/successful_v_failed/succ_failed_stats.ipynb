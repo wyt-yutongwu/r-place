{
 "cells": [
  {
   "cell_type": "code",
   "execution_count": 33,
   "id": "85c3438b",
   "metadata": {},
   "outputs": [],
   "source": [
    "#import basic libraries\n",
    "\n",
    "import csv\n",
    "import sys\n",
    "import os\n",
    "import math\n",
    "import numpy as np\n",
    "import numpy.linalg as npl\n",
    "import scipy\n",
    "from scipy import sparse\n",
    "from scipy import linalg\n",
    "import scipy.sparse.linalg as spla\n",
    "import matplotlib.pyplot as plt\n",
    "from sklearn import tree\n",
    "from sklearn.metrics import f1_score\n",
    "from sklearn.metrics import PrecisionRecallDisplay\n",
    "from sklearn.metrics import (precision_recall_curve,\n",
    "                             PrecisionRecallDisplay)\n",
    "from sklearn import metrics\n",
    "import matplotlib.ticker as mtick\n",
    "import matplotlib as mpl\n",
    "from sklearn.decomposition import PCA\n",
    "import pandas as pd\n",
    "from sklearn.preprocessing import StandardScaler\n",
    "from sklearn.manifold import TSNE"
   ]
  },
  {
   "cell_type": "code",
   "execution_count": 34,
   "id": "07c1c324",
   "metadata": {},
   "outputs": [],
   "source": [
    "# load data\n",
    "feature_file = \"/home/yw180/place/data/merged_8/merge_user_emb/feature_4.csv\"\n",
    "df = pd.read_csv(feature_file, names=[\"#updates\",\"#users\",\"center_point_x\", \"center_point_y\", \"start_time\",\"max_area\",\"color_entropy\", \"successful\"], header=None)\n",
    "labels = df['successful']"
   ]
  },
  {
   "cell_type": "code",
   "execution_count": 40,
   "id": "52834bad",
   "metadata": {},
   "outputs": [],
   "source": [
    "succ_df = df.loc[df['successful']==1]\n",
    "failed_df = df.loc[df['successful'] == 0]\n",
    "large_failed_df = df.query('successful == 0 and max_area >= 10')"
   ]
  },
  {
   "cell_type": "code",
   "execution_count": 42,
   "id": "ea1db4e9",
   "metadata": {},
   "outputs": [
    {
     "name": "stdout",
     "output_type": "stream",
     "text": [
      "Successful avg # updates:  17378.445171849427\n",
      "Failed avg # updates:  180.06111094033383\n",
      "Large failed avg # updates: 988.7797507256274\n"
     ]
    }
   ],
   "source": [
    "print(\"Successful avg # updates: \",succ_df['#updates'].mean())\n",
    "print(\"Failed avg # updates: \",failed_df['#updates'].mean())\n",
    "print(\"Large failed avg # updates:\",large_failed_df['#updates'].mean())"
   ]
  },
  {
   "cell_type": "code",
   "execution_count": 37,
   "id": "1b5f692f",
   "metadata": {},
   "outputs": [
    {
     "name": "stdout",
     "output_type": "stream",
     "text": [
      "Successful std # updates:  48362.150910839475\n",
      "Failed std # updates:  4304.5017274806105\n"
     ]
    }
   ],
   "source": [
    "print(\"Successful std # updates: \",succ_df['#updates'].std())\n",
    "print(\"Failed std # updates: \",failed_df['#updates'].std())\n"
   ]
  },
  {
   "cell_type": "code",
   "execution_count": 9,
   "id": "82a8b11c",
   "metadata": {},
   "outputs": [
    {
     "name": "stdout",
     "output_type": "stream",
     "text": [
      "Successful max # updates:  613320\n",
      "Failed max # updates:  453140\n"
     ]
    }
   ],
   "source": [
    "print(\"Successful max # updates: \",succ_df['#updates'].max())\n",
    "print(\"Failed max # updates: \",failed_df['#updates'].max())"
   ]
  },
  {
   "cell_type": "code",
   "execution_count": 10,
   "id": "b20e5068",
   "metadata": {},
   "outputs": [
    {
     "name": "stdout",
     "output_type": "stream",
     "text": [
      "Successful min # updates:  1\n",
      "Failed min # updates:  1\n"
     ]
    }
   ],
   "source": [
    "print(\"Successful min # updates: \",succ_df['#updates'].min())\n",
    "print(\"Failed min # updates: \",failed_df['#updates'].min())"
   ]
  },
  {
   "cell_type": "code",
   "execution_count": 43,
   "id": "64432b2a",
   "metadata": {},
   "outputs": [
    {
     "name": "stdout",
     "output_type": "stream",
     "text": [
      "Successful avg # users:  4055.9312602291325\n",
      "Failed avg # users:  70.20740217023761\n",
      "Large Failed avg # users:  379.4842069318764\n"
     ]
    }
   ],
   "source": [
    "print(\"Successful avg # users: \",succ_df['#users'].mean())\n",
    "print(\"Failed avg # users: \",failed_df['#users'].mean())\n",
    "print(\"Large Failed avg # users: \",large_failed_df['#users'].mean())"
   ]
  },
  {
   "cell_type": "code",
   "execution_count": 26,
   "id": "b689c4c2",
   "metadata": {},
   "outputs": [
    {
     "name": "stdout",
     "output_type": "stream",
     "text": [
      "Successful std # users:  10652.260712653866\n",
      "Failed std # users:  1559.3283010637567\n"
     ]
    }
   ],
   "source": [
    "print(\"Successful std # users: \",succ_df['#users'].std())\n",
    "print(\"Failed std # users: \",failed_df['#users'].std())"
   ]
  },
  {
   "cell_type": "code",
   "execution_count": 14,
   "id": "7de86747",
   "metadata": {},
   "outputs": [
    {
     "name": "stdout",
     "output_type": "stream",
     "text": [
      "Successful min # users:  1\n",
      "Failed min # users:  1\n"
     ]
    }
   ],
   "source": [
    "print(\"Successful min # users: \",succ_df['#users'].min())\n",
    "print(\"Failed min # users: \",failed_df['#users'].min())"
   ]
  },
  {
   "cell_type": "code",
   "execution_count": 45,
   "id": "65c089ba",
   "metadata": {},
   "outputs": [
    {
     "name": "stdout",
     "output_type": "stream",
     "text": [
      "Successful avg color entropy:  1.7553409975966123\n",
      "Failed avg color entropy:  0.6091230927763183\n",
      "Large Failed avg color entropy:  1.56546226262491\n"
     ]
    }
   ],
   "source": [
    "print(\"Successful avg color entropy: \",succ_df['color_entropy'].mean())\n",
    "print(\"Failed avg color entropy: \",failed_df['color_entropy'].mean())\n",
    "print(\"Large Failed avg color entropy: \",large_failed_df['color_entropy'].mean())"
   ]
  },
  {
   "cell_type": "code",
   "execution_count": 16,
   "id": "e9070b14",
   "metadata": {},
   "outputs": [
    {
     "name": "stdout",
     "output_type": "stream",
     "text": [
      "Successful max color entropy:  2.6215730838506306\n",
      "Failed max color entropy:  2.669217728112028\n"
     ]
    }
   ],
   "source": [
    "print(\"Successful max color entropy: \",succ_df['color_entropy'].max())\n",
    "print(\"Failed max color entropy: \",failed_df['color_entropy'].max())"
   ]
  },
  {
   "cell_type": "code",
   "execution_count": 46,
   "id": "e7586a3d",
   "metadata": {},
   "outputs": [
    {
     "name": "stdout",
     "output_type": "stream",
     "text": [
      "Successful avg start time: 39.9640957446893\n",
      "Failed avg start time:  27.23460599117809\n",
      "Large failed avg start time:  34.55346171723472\n"
     ]
    }
   ],
   "source": [
    "first_time_stamp = 1490918688\n",
    "print(\"Successful avg start time:\",(succ_df['start_time'].mean() - first_time_stamp) / 3600)\n",
    "print(\"Failed avg start time: \",(failed_df['start_time'].mean() - first_time_stamp) / 3600)\n",
    "print(\"Large failed avg start time: \",(large_failed_df['start_time'].mean() - first_time_stamp) / 3600)"
   ]
  },
  {
   "cell_type": "code",
   "execution_count": 22,
   "id": "66a59366",
   "metadata": {},
   "outputs": [
    {
     "name": "stdout",
     "output_type": "stream",
     "text": [
      "Successful max area:  30442\n",
      "Failed max area:  186316\n"
     ]
    }
   ],
   "source": [
    "print(\"Successful max area: \",succ_df['max_area'].max())\n",
    "print(\"Failed max area: \",failed_df['max_area'].max())"
   ]
  },
  {
   "cell_type": "code",
   "execution_count": 47,
   "id": "fc141ea3",
   "metadata": {},
   "outputs": [
    {
     "name": "stdout",
     "output_type": "stream",
     "text": [
      "Successful avg area:  2082.9525368248774\n",
      "Failed avg area:  57.3655282653469\n",
      "Large Failed avg area:  308.75892094929145\n"
     ]
    }
   ],
   "source": [
    "print(\"Successful avg area: \",succ_df['max_area'].mean())\n",
    "print(\"Failed avg area: \",failed_df['max_area'].mean())\n",
    "print(\"Large Failed avg area: \",large_failed_df['max_area'].mean())"
   ]
  },
  {
   "cell_type": "code",
   "execution_count": 32,
   "id": "a60ac34b",
   "metadata": {},
   "outputs": [
    {
     "name": "stdout",
     "output_type": "stream",
     "text": [
      "Successful std area:  3679.496039000755\n",
      "Failed std area:  1435.0833304730777\n"
     ]
    }
   ],
   "source": [
    "print(\"Successful std area: \",succ_df['max_area'].std())\n",
    "print(\"Failed std area: \",failed_df['max_area'].std())"
   ]
  },
  {
   "cell_type": "code",
   "execution_count": null,
   "id": "2ea1a47e",
   "metadata": {},
   "outputs": [],
   "source": []
  }
 ],
 "metadata": {
  "kernelspec": {
   "display_name": "Python 3 (ipykernel)",
   "language": "python",
   "name": "python3"
  },
  "language_info": {
   "codemirror_mode": {
    "name": "ipython",
    "version": 3
   },
   "file_extension": ".py",
   "mimetype": "text/x-python",
   "name": "python",
   "nbconvert_exporter": "python",
   "pygments_lexer": "ipython3",
   "version": "3.11.4"
  }
 },
 "nbformat": 4,
 "nbformat_minor": 5
}
